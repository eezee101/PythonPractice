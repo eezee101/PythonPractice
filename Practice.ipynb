{
 "cells": [
  {
   "cell_type": "code",
   "execution_count": 1,
   "id": "dbe47ffb-bb71-461c-a2f1-59255a3034b7",
   "metadata": {},
   "outputs": [],
   "source": [
    "my_list = [1,2,3]"
   ]
  },
  {
   "cell_type": "code",
   "execution_count": 2,
   "id": "cc044aa1-de1c-4686-97c3-57564914318b",
   "metadata": {},
   "outputs": [
    {
     "data": {
      "text/plain": [
       "3"
      ]
     },
     "execution_count": 2,
     "metadata": {},
     "output_type": "execute_result"
    }
   ],
   "source": [
    "len(my_list)"
   ]
  },
  {
   "cell_type": "code",
   "execution_count": 3,
   "id": "d94842f4-0fce-4cd1-b6c0-0a6c9927d84c",
   "metadata": {},
   "outputs": [
    {
     "data": {
      "text/plain": [
       "[1, 2, 3]"
      ]
     },
     "execution_count": 3,
     "metadata": {},
     "output_type": "execute_result"
    }
   ],
   "source": [
    "my_list[0:]"
   ]
  },
  {
   "cell_type": "code",
   "execution_count": 4,
   "id": "977f8184-7043-408c-bf68-b281115ed81e",
   "metadata": {},
   "outputs": [
    {
     "data": {
      "text/plain": [
       "[1, 2, 3, 'zeeshan', 5]"
      ]
     },
     "execution_count": 4,
     "metadata": {},
     "output_type": "execute_result"
    }
   ],
   "source": [
    "my_list +[\"zeeshan\",5]"
   ]
  },
  {
   "cell_type": "code",
   "execution_count": null,
   "id": "c0324c7a",
   "metadata": {},
   "outputs": [],
   "source": []
  },
  {
   "cell_type": "code",
   "execution_count": 5,
   "id": "d15f09de-9ed7-4fa2-ad63-185761ba7084",
   "metadata": {},
   "outputs": [
    {
     "data": {
      "text/plain": [
       "[1, 2, 3]"
      ]
     },
     "execution_count": 5,
     "metadata": {},
     "output_type": "execute_result"
    }
   ],
   "source": [
    "my_list"
   ]
  },
  {
   "cell_type": "code",
   "execution_count": 6,
   "id": "7b558198-a185-45ec-9797-f47f2d56ebbd",
   "metadata": {},
   "outputs": [],
   "source": [
    "my_list[0] = \"one\""
   ]
  },
  {
   "cell_type": "code",
   "execution_count": 7,
   "id": "895e5a56-3127-40d4-831b-fa3fd45712aa",
   "metadata": {},
   "outputs": [
    {
     "data": {
      "text/plain": [
       "['one', 2, 3]"
      ]
     },
     "execution_count": 7,
     "metadata": {},
     "output_type": "execute_result"
    }
   ],
   "source": [
    "my_list"
   ]
  },
  {
   "cell_type": "code",
   "execution_count": 8,
   "id": "acb8b389-1931-4edf-8bb1-87d8b46b705b",
   "metadata": {},
   "outputs": [],
   "source": [
    "my_list.append(\"ali\")"
   ]
  },
  {
   "cell_type": "code",
   "execution_count": 9,
   "id": "89d3499f-aead-4130-b288-c20a0b5335b6",
   "metadata": {},
   "outputs": [
    {
     "data": {
      "text/plain": [
       "['one', 2, 3, 'ali']"
      ]
     },
     "execution_count": 9,
     "metadata": {},
     "output_type": "execute_result"
    }
   ],
   "source": [
    "my_list"
   ]
  },
  {
   "cell_type": "code",
   "execution_count": 10,
   "id": "d91f8775-fce0-4120-b858-c9a1a476752b",
   "metadata": {},
   "outputs": [],
   "source": [
    "my_list.append(\"xxx\")"
   ]
  },
  {
   "cell_type": "code",
   "execution_count": 11,
   "id": "a3dd1762-d942-4c14-bad4-f4f9e99c7b5a",
   "metadata": {},
   "outputs": [
    {
     "data": {
      "text/plain": [
       "'xxx'"
      ]
     },
     "execution_count": 11,
     "metadata": {},
     "output_type": "execute_result"
    }
   ],
   "source": [
    "my_list.pop()"
   ]
  },
  {
   "cell_type": "code",
   "execution_count": 12,
   "id": "61740e93-3823-4fea-b858-c72c3b156085",
   "metadata": {},
   "outputs": [
    {
     "data": {
      "text/plain": [
       "['one', 2, 3, 'ali']"
      ]
     },
     "execution_count": 12,
     "metadata": {},
     "output_type": "execute_result"
    }
   ],
   "source": [
    "my_list"
   ]
  },
  {
   "cell_type": "code",
   "execution_count": 13,
   "id": "d3249e63-ab31-4fbd-bb68-2983bf58e34c",
   "metadata": {},
   "outputs": [
    {
     "data": {
      "text/plain": [
       "2"
      ]
     },
     "execution_count": 13,
     "metadata": {},
     "output_type": "execute_result"
    }
   ],
   "source": [
    "my_list.pop(1)"
   ]
  },
  {
   "cell_type": "code",
   "execution_count": 14,
   "id": "de196c9e-4974-4a48-b5d2-187723f478db",
   "metadata": {},
   "outputs": [
    {
     "data": {
      "text/plain": [
       "['one', 3, 'ali']"
      ]
     },
     "execution_count": 14,
     "metadata": {},
     "output_type": "execute_result"
    }
   ],
   "source": [
    "my_list"
   ]
  },
  {
   "cell_type": "code",
   "execution_count": 15,
   "id": "906e3666-10cb-476a-871f-6b8f72133b6c",
   "metadata": {},
   "outputs": [],
   "source": [
    "my_list = [\"a\",\"c\",\"b\"]"
   ]
  },
  {
   "cell_type": "code",
   "execution_count": 16,
   "id": "c1c90b66-8236-4e5e-a0c1-53624056372c",
   "metadata": {},
   "outputs": [],
   "source": [
    "my_list.sort()"
   ]
  },
  {
   "cell_type": "code",
   "execution_count": 17,
   "id": "ffc8b68e-8747-4590-8a0a-c80ce0cc3e42",
   "metadata": {},
   "outputs": [
    {
     "data": {
      "text/plain": [
       "['a', 'b', 'c']"
      ]
     },
     "execution_count": 17,
     "metadata": {},
     "output_type": "execute_result"
    }
   ],
   "source": [
    "my_list"
   ]
  },
  {
   "cell_type": "code",
   "execution_count": 18,
   "id": "e77b2da3-2722-465c-ac84-a8371af40e8f",
   "metadata": {},
   "outputs": [],
   "source": [
    "my_dict = {'key1':'value1','key2':'value2'}"
   ]
  },
  {
   "cell_type": "code",
   "execution_count": 19,
   "id": "caf99132-8c5a-4aee-abf0-080518d9c2b5",
   "metadata": {},
   "outputs": [
    {
     "data": {
      "text/plain": [
       "'value1'"
      ]
     },
     "execution_count": 19,
     "metadata": {},
     "output_type": "execute_result"
    }
   ],
   "source": [
    "my_dict['key1']"
   ]
  },
  {
   "cell_type": "code",
   "execution_count": 20,
   "id": "e2a00b8d-267c-4c63-b024-01120c9e3ade",
   "metadata": {},
   "outputs": [],
   "source": [
    "my_dict = {\"k1\":123,\"k2\":[0,1,2],\"k3\":{\"inside\":{\"insideinside\":100}}}"
   ]
  },
  {
   "cell_type": "code",
   "execution_count": 21,
   "id": "e162d50c-2e2a-46bc-8632-8453d8537681",
   "metadata": {},
   "outputs": [
    {
     "data": {
      "text/plain": [
       "100"
      ]
     },
     "execution_count": 21,
     "metadata": {},
     "output_type": "execute_result"
    }
   ],
   "source": [
    "my_dict[\"k3\"][\"inside\"][\"insideinside\"]"
   ]
  },
  {
   "cell_type": "code",
   "execution_count": 22,
   "id": "92b361ca-f890-42e9-9bc6-a87392d19da8",
   "metadata": {},
   "outputs": [
    {
     "data": {
      "text/plain": [
       "{'k1': 123, 'k2': [0, 1, 2], 'k3': {'inside': {'insideinside': 100}}}"
      ]
     },
     "execution_count": 22,
     "metadata": {},
     "output_type": "execute_result"
    }
   ],
   "source": [
    "my_dict"
   ]
  },
  {
   "cell_type": "code",
   "execution_count": 23,
   "id": "5401657c-260e-435f-a04b-d311db689bba",
   "metadata": {},
   "outputs": [],
   "source": [
    "## Tuples- mix type of items in a tuple\n",
    "\n",
    "t = (1,2,3)"
   ]
  },
  {
   "cell_type": "code",
   "execution_count": 24,
   "id": "2bb419d7-fb2d-4818-9f8b-cf0872f57aee",
   "metadata": {},
   "outputs": [
    {
     "data": {
      "text/plain": [
       "(1, 2, 3)"
      ]
     },
     "execution_count": 24,
     "metadata": {},
     "output_type": "execute_result"
    }
   ],
   "source": [
    "t"
   ]
  },
  {
   "cell_type": "code",
   "execution_count": 25,
   "id": "527e0f14-60ca-484c-a931-e67ed7933018",
   "metadata": {},
   "outputs": [
    {
     "data": {
      "text/plain": [
       "tuple"
      ]
     },
     "execution_count": 25,
     "metadata": {},
     "output_type": "execute_result"
    }
   ],
   "source": [
    "type(t)"
   ]
  },
  {
   "cell_type": "code",
   "execution_count": 26,
   "id": "51345473-80c8-45dd-bb45-04648e4cfd48",
   "metadata": {},
   "outputs": [
    {
     "data": {
      "text/plain": [
       "1"
      ]
     },
     "execution_count": 26,
     "metadata": {},
     "output_type": "execute_result"
    }
   ],
   "source": [
    "t[0]"
   ]
  },
  {
   "cell_type": "code",
   "execution_count": 27,
   "id": "d26c1b3c-6a5e-44e1-8f39-350c185fa469",
   "metadata": {},
   "outputs": [],
   "source": [
    "t1 = ('a','a','b')"
   ]
  },
  {
   "cell_type": "code",
   "execution_count": 28,
   "id": "48885082-2577-44c7-a384-5c10dcda37ce",
   "metadata": {},
   "outputs": [
    {
     "data": {
      "text/plain": [
       "2"
      ]
     },
     "execution_count": 28,
     "metadata": {},
     "output_type": "execute_result"
    }
   ],
   "source": [
    "t1.count('a')"
   ]
  },
  {
   "cell_type": "code",
   "execution_count": 29,
   "id": "09397a84-e2b8-4bc2-8be4-811baa0b3a1d",
   "metadata": {},
   "outputs": [
    {
     "data": {
      "text/plain": [
       "0"
      ]
     },
     "execution_count": 29,
     "metadata": {},
     "output_type": "execute_result"
    }
   ],
   "source": [
    "t1.index(\"a\")"
   ]
  },
  {
   "cell_type": "code",
   "execution_count": 30,
   "id": "838bbefd-6fbf-42b2-83cb-94041a536393",
   "metadata": {},
   "outputs": [
    {
     "data": {
      "text/plain": [
       "2"
      ]
     },
     "execution_count": 30,
     "metadata": {},
     "output_type": "execute_result"
    }
   ],
   "source": [
    "t1.index('b')"
   ]
  },
  {
   "cell_type": "code",
   "execution_count": 31,
   "id": "78769721-5303-4ca7-9137-962bab75a566",
   "metadata": {},
   "outputs": [],
   "source": [
    "##tuple is immutable\n"
   ]
  },
  {
   "cell_type": "code",
   "execution_count": 32,
   "id": "9fe3fc76-1031-416d-953c-5b92c27cee8b",
   "metadata": {},
   "outputs": [
    {
     "data": {
      "text/plain": [
       "['a', 'b', 'c']"
      ]
     },
     "execution_count": 32,
     "metadata": {},
     "output_type": "execute_result"
    }
   ],
   "source": [
    "my_list"
   ]
  },
  {
   "cell_type": "code",
   "execution_count": 33,
   "id": "1393cbd3-f8b0-4970-bc23-b0654e11b148",
   "metadata": {},
   "outputs": [],
   "source": [
    "my_list[0] = \"new\""
   ]
  },
  {
   "cell_type": "code",
   "execution_count": 34,
   "id": "762ed62f-2595-4c70-a586-00a46a9dd9ac",
   "metadata": {},
   "outputs": [
    {
     "data": {
      "text/plain": [
       "['new', 'b', 'c']"
      ]
     },
     "execution_count": 34,
     "metadata": {},
     "output_type": "execute_result"
    }
   ],
   "source": [
    "my_list"
   ]
  },
  {
   "cell_type": "code",
   "execution_count": 35,
   "id": "0d6213b1-c949-4960-b0b3-f2a0cc179491",
   "metadata": {},
   "outputs": [
    {
     "data": {
      "text/plain": [
       "(1, 2, 3)"
      ]
     },
     "execution_count": 35,
     "metadata": {},
     "output_type": "execute_result"
    }
   ],
   "source": [
    "t"
   ]
  },
  {
   "cell_type": "code",
   "execution_count": 36,
   "id": "f6fd78c8-0a34-42bb-b805-1fb395de6d49",
   "metadata": {},
   "outputs": [
    {
     "ename": "TypeError",
     "evalue": "'tuple' object does not support item assignment",
     "output_type": "error",
     "traceback": [
      "\u001b[1;31m---------------------------------------------------------------------------\u001b[0m",
      "\u001b[1;31mTypeError\u001b[0m                                 Traceback (most recent call last)",
      "Cell \u001b[1;32mIn[36], line 1\u001b[0m\n\u001b[1;32m----> 1\u001b[0m \u001b[43mt\u001b[49m\u001b[43m[\u001b[49m\u001b[38;5;241;43m0\u001b[39;49m\u001b[43m]\u001b[49m \u001b[38;5;241m=\u001b[39m \u001b[38;5;124m\"\u001b[39m\u001b[38;5;124mnew\u001b[39m\u001b[38;5;124m\"\u001b[39m\n",
      "\u001b[1;31mTypeError\u001b[0m: 'tuple' object does not support item assignment"
     ]
    }
   ],
   "source": [
    "t[0] = \"new\""
   ]
  },
  {
   "cell_type": "code",
   "execution_count": null,
   "id": "979ee2c6-1d70-457c-8d8f-6e8c26e4e2bc",
   "metadata": {},
   "outputs": [],
   "source": [
    "## sets - unordered collection\n",
    "myset = set()"
   ]
  },
  {
   "cell_type": "code",
   "execution_count": null,
   "id": "86645631-f23f-4c5b-80ca-f0f76e8a07a8",
   "metadata": {},
   "outputs": [],
   "source": [
    "myset.add(1)"
   ]
  },
  {
   "cell_type": "code",
   "execution_count": null,
   "id": "be63d96d-74c8-4cc7-8b46-c46007b1e902",
   "metadata": {},
   "outputs": [],
   "source": [
    "myset"
   ]
  },
  {
   "cell_type": "code",
   "execution_count": null,
   "id": "9a37fcf7-2a53-45e9-8446-32f13b2982e4",
   "metadata": {},
   "outputs": [],
   "source": [
    "myset.add(2)"
   ]
  },
  {
   "cell_type": "code",
   "execution_count": null,
   "id": "26f59414-44da-4fc4-8f93-6811f56ef679",
   "metadata": {},
   "outputs": [],
   "source": [
    "myset"
   ]
  },
  {
   "cell_type": "code",
   "execution_count": null,
   "id": "2adb6aff-eca1-4a21-acd9-4961d031aa4e",
   "metadata": {},
   "outputs": [],
   "source": [
    "myset.add(2)"
   ]
  },
  {
   "cell_type": "code",
   "execution_count": null,
   "id": "be5ba042-6cb3-4d1e-8db0-9cd54c858e9b",
   "metadata": {},
   "outputs": [],
   "source": [
    "myset"
   ]
  },
  {
   "cell_type": "code",
   "execution_count": null,
   "id": "f0d76f62-814f-427e-8365-ddf8c6fbf3c1",
   "metadata": {},
   "outputs": [],
   "source": [
    "mylist"
   ]
  },
  {
   "cell_type": "code",
   "execution_count": null,
   "id": "75379c3c-6922-4d29-878a-410d1936619d",
   "metadata": {},
   "outputs": [],
   "source": [
    "mylist = my_list"
   ]
  },
  {
   "cell_type": "code",
   "execution_count": null,
   "id": "7fc54684-80a6-4ae7-adab-903993103179",
   "metadata": {},
   "outputs": [],
   "source": [
    "mylist"
   ]
  },
  {
   "cell_type": "code",
   "execution_count": null,
   "id": "74b2a333-8246-461e-8ec4-1de0599b6850",
   "metadata": {},
   "outputs": [],
   "source": [
    "mylist = [2,2,3,1,5,5,7,4,3,]"
   ]
  },
  {
   "cell_type": "code",
   "execution_count": null,
   "id": "5feec877-c6a5-4e15-8b0e-1a403efe65a5",
   "metadata": {},
   "outputs": [],
   "source": [
    "set(mylist)"
   ]
  },
  {
   "cell_type": "code",
   "execution_count": null,
   "id": "49faea31-f5e4-4fe0-8ea5-928c60483f6b",
   "metadata": {},
   "outputs": [],
   "source": [
    "myset"
   ]
  },
  {
   "cell_type": "code",
   "execution_count": null,
   "id": "fa11eed0-e24f-48da-a1e2-91f58e7c734b",
   "metadata": {},
   "outputs": [],
   "source": [
    "myset = mylist"
   ]
  },
  {
   "cell_type": "code",
   "execution_count": null,
   "id": "7daf7ae0-dc92-4d3c-93a8-31e18209c4f3",
   "metadata": {},
   "outputs": [],
   "source": [
    "myset"
   ]
  },
  {
   "cell_type": "code",
   "execution_count": null,
   "id": "48de10f5-edb9-4ff9-9873-2f3ecc9ad11b",
   "metadata": {},
   "outputs": [],
   "source": [
    "myset = set()"
   ]
  },
  {
   "cell_type": "code",
   "execution_count": null,
   "id": "9fd45c13-0ad5-45fc-8e40-6947b000df3a",
   "metadata": {},
   "outputs": [],
   "source": [
    "myset"
   ]
  },
  {
   "cell_type": "code",
   "execution_count": null,
   "id": "bd36811b-4b96-41ba-abeb-1ca801eda5f6",
   "metadata": {},
   "outputs": [],
   "source": [
    "myset.add(0)"
   ]
  },
  {
   "cell_type": "code",
   "execution_count": null,
   "id": "a0082f8c-b088-43f2-b953-a69ccece7906",
   "metadata": {},
   "outputs": [],
   "source": []
  },
  {
   "cell_type": "code",
   "execution_count": null,
   "id": "f7cd867b-caaf-4437-a868-2895ffeb58c1",
   "metadata": {},
   "outputs": [],
   "source": []
  },
  {
   "cell_type": "code",
   "execution_count": null,
   "id": "7512e416-7348-47bf-b984-b5e413317265",
   "metadata": {},
   "outputs": [],
   "source": []
  },
  {
   "cell_type": "code",
   "execution_count": null,
   "id": "011c1ef7-07db-4961-9eb7-c5e03356ed3d",
   "metadata": {},
   "outputs": [],
   "source": [
    "a = 'Mississippi'"
   ]
  },
  {
   "cell_type": "code",
   "execution_count": null,
   "id": "6cb74920-932f-4956-b65d-8675c68d423d",
   "metadata": {},
   "outputs": [],
   "source": [
    "set(a)"
   ]
  },
  {
   "cell_type": "code",
   "execution_count": null,
   "id": "376f7303-a68c-49f2-86c7-d98c4cfa64a4",
   "metadata": {},
   "outputs": [],
   "source": [
    "set('Mississippi')"
   ]
  },
  {
   "cell_type": "code",
   "execution_count": null,
   "id": "3b2bf782-4866-4c02-ab9c-aa2a23474c7e",
   "metadata": {},
   "outputs": [],
   "source": [
    "True"
   ]
  },
  {
   "cell_type": "code",
   "execution_count": null,
   "id": "cd7b799f-a72f-45c6-9c03-7961ec0889d9",
   "metadata": {},
   "outputs": [],
   "source": [
    "False"
   ]
  },
  {
   "cell_type": "code",
   "execution_count": null,
   "id": "08fed483-6e13-4147-a88b-f571ec247bd9",
   "metadata": {},
   "outputs": [],
   "source": [
    "type(True)"
   ]
  },
  {
   "cell_type": "code",
   "execution_count": null,
   "id": "3464cf00-23c7-4405-8a15-4cad89b6c3c2",
   "metadata": {},
   "outputs": [],
   "source": [
    "1>2"
   ]
  },
  {
   "cell_type": "code",
   "execution_count": null,
   "id": "2410edb1-ab75-41db-8826-9bc1a9d6d566",
   "metadata": {},
   "outputs": [],
   "source": [
    "1 == 2"
   ]
  },
  {
   "cell_type": "code",
   "execution_count": null,
   "id": "d60d6c04-30c6-4b70-987f-23a282c18a1b",
   "metadata": {},
   "outputs": [],
   "source": [
    "None"
   ]
  },
  {
   "cell_type": "code",
   "execution_count": null,
   "id": "9fb52369-8e16-46d0-a23d-91450188dc4f",
   "metadata": {},
   "outputs": [],
   "source": [
    "a = None"
   ]
  },
  {
   "cell_type": "code",
   "execution_count": null,
   "id": "895a1ffe-a2d3-4b4e-87a7-582d554e9f42",
   "metadata": {},
   "outputs": [],
   "source": [
    "a"
   ]
  },
  {
   "cell_type": "code",
   "execution_count": null,
   "id": "a8bf45f0-01d6-419a-98b7-52f90d45579b",
   "metadata": {},
   "outputs": [],
   "source": [
    "type(a)"
   ]
  },
  {
   "cell_type": "code",
   "execution_count": null,
   "id": "3360438e-f3cf-4860-98d2-906506d4f989",
   "metadata": {},
   "outputs": [],
   "source": [
    "%%writefile myfile.txt\n",
    "Hello this is a test file\n",
    "this is the second line\n",
    "this is the third line"
   ]
  },
  {
   "cell_type": "code",
   "execution_count": null,
   "id": "aaff9681-b202-4212-9b16-ed504e37766a",
   "metadata": {},
   "outputs": [],
   "source": [
    "myfile = open('myfile.txt')"
   ]
  },
  {
   "cell_type": "code",
   "execution_count": null,
   "id": "f8a30a25-8aff-41dd-b72a-e3c6a07b7623",
   "metadata": {},
   "outputs": [],
   "source": [
    "## execution location\n",
    "pwd"
   ]
  },
  {
   "cell_type": "code",
   "execution_count": null,
   "id": "56f7381b-395f-4faf-af12-bfbf2e4b93b3",
   "metadata": {},
   "outputs": [],
   "source": [
    "myfile.read()"
   ]
  },
  {
   "cell_type": "code",
   "execution_count": null,
   "id": "c3278e7d-8041-417a-8b3b-4ac609c6d895",
   "metadata": {},
   "outputs": [],
   "source": [
    "myfile.read()\n",
    "\n",
    "myfile.readlines() #returns a list for each line\n",
    "\n",
    "myfile.seek(0)\n",
    "\n",
    "pwd #file location\n",
    "\n",
    "myfile.open()\n",
    "\n",
    "myfile.close()"
   ]
  },
  {
   "cell_type": "code",
   "execution_count": null,
   "id": "018a6929-e53f-4c3e-9700-56068ebb579c",
   "metadata": {},
   "outputs": [],
   "source": [
    "myfile.read()"
   ]
  },
  {
   "cell_type": "code",
   "execution_count": null,
   "id": "500b446d-d978-4830-b7c7-607abaa78b37",
   "metadata": {},
   "outputs": [],
   "source": [
    "myfile.seek(0)"
   ]
  },
  {
   "cell_type": "code",
   "execution_count": null,
   "id": "78d62e4e-c5e7-4c11-bb94-dbc9b3aba3ba",
   "metadata": {},
   "outputs": [],
   "source": [
    "myfile.read()"
   ]
  },
  {
   "cell_type": "code",
   "execution_count": null,
   "id": "0239664f-1a9d-45fb-89a3-94073242abff",
   "metadata": {},
   "outputs": [],
   "source": [
    "myfile.seek(0)"
   ]
  },
  {
   "cell_type": "code",
   "execution_count": null,
   "id": "386882ed-d048-4bf3-8824-21156f3d0835",
   "metadata": {},
   "outputs": [],
   "source": [
    "newlist = myfile.readlines()"
   ]
  },
  {
   "cell_type": "code",
   "execution_count": null,
   "id": "5becb336-e01b-44b0-82f5-d95430662d88",
   "metadata": {},
   "outputs": [],
   "source": [
    "newlist"
   ]
  },
  {
   "cell_type": "code",
   "execution_count": null,
   "id": "1be11672-a4b2-4404-b53f-dba3494bac2c",
   "metadata": {},
   "outputs": [],
   "source": [
    "myfile.read()"
   ]
  },
  {
   "cell_type": "code",
   "execution_count": null,
   "id": "fd271afb-a740-46ce-887b-97e5db90d6ad",
   "metadata": {},
   "outputs": [],
   "source": [
    "myfile.seek(0)"
   ]
  },
  {
   "cell_type": "code",
   "execution_count": null,
   "id": "f701233a-0725-467d-ac0b-f064b382d435",
   "metadata": {},
   "outputs": [],
   "source": [
    "newlist"
   ]
  },
  {
   "cell_type": "code",
   "execution_count": null,
   "id": "79bd6588-f1ca-48c5-ac91-4ddbc70a74ac",
   "metadata": {},
   "outputs": [],
   "source": [
    "pwd"
   ]
  },
  {
   "cell_type": "code",
   "execution_count": null,
   "id": "952af581-328e-413e-8c8c-d3b2db7952bd",
   "metadata": {},
   "outputs": [],
   "source": [
    "myfile.close()"
   ]
  },
  {
   "cell_type": "code",
   "execution_count": null,
   "id": "9d4cbd0d-359f-42c9-9c08-930712a5cff4",
   "metadata": {},
   "outputs": [],
   "source": [
    "with open('myfile.txt', mode = 'r') as newfile:\n",
    "    contents = newfile.read()"
   ]
  },
  {
   "cell_type": "code",
   "execution_count": null,
   "id": "2a3afe92-2754-4054-a0a6-fdc34f17e502",
   "metadata": {},
   "outputs": [],
   "source": [
    "newfile"
   ]
  },
  {
   "cell_type": "code",
   "execution_count": null,
   "id": "24297a45-03cc-4531-986b-588a0cf3b2f9",
   "metadata": {},
   "outputs": [],
   "source": [
    "contents"
   ]
  },
  {
   "cell_type": "code",
   "execution_count": null,
   "id": "37792f55-4eb8-47db-b391-85d45183ff5d",
   "metadata": {},
   "outputs": [],
   "source": [
    "contents"
   ]
  },
  {
   "cell_type": "code",
   "execution_count": null,
   "id": "d0324893-3e32-43c0-8591-26c11ea2358b",
   "metadata": {},
   "outputs": [],
   "source": [
    "newfile.seek(0)"
   ]
  },
  {
   "cell_type": "code",
   "execution_count": null,
   "id": "3a740fa0-52d8-4231-872c-699d92745980",
   "metadata": {},
   "outputs": [],
   "source": [
    "myfile.read()"
   ]
  },
  {
   "cell_type": "code",
   "execution_count": null,
   "id": "7f79e962-5529-4832-be2c-7c36b1584257",
   "metadata": {},
   "outputs": [],
   "source": [
    "myfile.open()"
   ]
  },
  {
   "cell_type": "code",
   "execution_count": null,
   "id": "487f51e3-4588-4ea6-aef1-573cb9f459d8",
   "metadata": {},
   "outputs": [],
   "source": [
    "myfile = open('myfile.txt')"
   ]
  },
  {
   "cell_type": "code",
   "execution_count": null,
   "id": "fed57bbe-0331-4fb8-94bd-f8289a9b4343",
   "metadata": {},
   "outputs": [],
   "source": [
    "myfile.read()"
   ]
  },
  {
   "cell_type": "code",
   "execution_count": null,
   "id": "7086fbbe-82f5-413a-b16f-d6e30f459aa7",
   "metadata": {},
   "outputs": [],
   "source": [
    "myfile.seek(0)"
   ]
  },
  {
   "cell_type": "code",
   "execution_count": null,
   "id": "3ae6eeca-84cd-4246-ae3b-c4a85a8b47a5",
   "metadata": {},
   "outputs": [],
   "source": [
    "myfile.read()"
   ]
  },
  {
   "cell_type": "code",
   "execution_count": null,
   "id": "9049f0e5-6162-4ce9-bac2-400f81407fcf",
   "metadata": {},
   "outputs": [],
   "source": [
    "1<2<3"
   ]
  },
  {
   "cell_type": "code",
   "execution_count": null,
   "id": "e5923d8a",
   "metadata": {},
   "outputs": [],
   "source": [
    "(1<2) & (2<3)"
   ]
  },
  {
   "cell_type": "code",
   "execution_count": null,
   "id": "88ae2c15",
   "metadata": {},
   "outputs": [],
   "source": [
    "(1>2) | (2>3)"
   ]
  },
  {
   "cell_type": "code",
   "execution_count": null,
   "id": "2483444f",
   "metadata": {},
   "outputs": [],
   "source": [
    "not (1<2) != (2<3)"
   ]
  },
  {
   "cell_type": "code",
   "execution_count": null,
   "id": "1e03bd49",
   "metadata": {},
   "outputs": [],
   "source": [
    "## Control flow\n",
    "\n",
    "# if: condition\n",
    "#     execution code\n"
   ]
  },
  {
   "cell_type": "code",
   "execution_count": null,
   "id": "820a16c8",
   "metadata": {},
   "outputs": [],
   "source": [
    "if True:\n",
    "    print(\"its true\")"
   ]
  },
  {
   "cell_type": "code",
   "execution_count": null,
   "id": "1b6b5556",
   "metadata": {},
   "outputs": [],
   "source": [
    "a =10\n",
    "if a==11:\n",
    "    print(a)\n",
    "else:\n",
    "    print(f'a is not {a}')"
   ]
  },
  {
   "cell_type": "code",
   "execution_count": null,
   "id": "56acabd6-947a-457e-b93a-68e23f2698a4",
   "metadata": {},
   "outputs": [],
   "source": [
    "## For Loop\n",
    "# for x in list:\n",
    "#    loop logic"
   ]
  },
  {
   "cell_type": "code",
   "execution_count": null,
   "id": "ec2a2eea-49e8-421d-a4e0-30a23a76f180",
   "metadata": {},
   "outputs": [],
   "source": [
    "my_list"
   ]
  },
  {
   "cell_type": "code",
   "execution_count": null,
   "id": "e21de99c-3532-4849-9f3b-bd775047a9de",
   "metadata": {},
   "outputs": [],
   "source": [
    "for x in my_list:\n",
    "    print(x)"
   ]
  },
  {
   "cell_type": "code",
   "execution_count": null,
   "id": "2530179f-319a-4ac6-8506-149d5da8d14d",
   "metadata": {},
   "outputs": [],
   "source": [
    " my_list"
   ]
  },
  {
   "cell_type": "code",
   "execution_count": null,
   "id": "34cdffba-fa28-48d0-96cc-45f5f9157233",
   "metadata": {},
   "outputs": [],
   "source": [
    "my_list[0]"
   ]
  },
  {
   "cell_type": "code",
   "execution_count": null,
   "id": "0cbf56e6-697f-4d52-b0e2-50f9f63c8287",
   "metadata": {},
   "outputs": [],
   "source": [
    "my_list[2] = 4"
   ]
  },
  {
   "cell_type": "code",
   "execution_count": null,
   "id": "153d41d2-8532-482f-81ac-0aee4f6a903a",
   "metadata": {},
   "outputs": [],
   "source": [
    "my_dict"
   ]
  },
  {
   "cell_type": "code",
   "execution_count": null,
   "id": "0a062584-7132-496b-bf17-0f8e6c766400",
   "metadata": {},
   "outputs": [],
   "source": [
    "shoeb = {'unt': 'BA', 'home':'hyd'}"
   ]
  },
  {
   "cell_type": "code",
   "execution_count": null,
   "id": "4657d1a7-f340-4e72-8abf-e654ffb76436",
   "metadata": {},
   "outputs": [],
   "source": [
    "shoeb"
   ]
  },
  {
   "cell_type": "code",
   "execution_count": null,
   "id": "047b96dc-7422-46ef-85c7-ec343f0d090a",
   "metadata": {},
   "outputs": [],
   "source": [
    "shoeb['unt']"
   ]
  },
  {
   "cell_type": "code",
   "execution_count": null,
   "id": "452151a6-8fd2-4fb3-9853-3d5f999dbedb",
   "metadata": {},
   "outputs": [],
   "source": [
    "shoeb.keys()"
   ]
  },
  {
   "cell_type": "code",
   "execution_count": null,
   "id": "dc04cb9a-0844-4885-9807-070e9a19f1aa",
   "metadata": {},
   "outputs": [],
   "source": [
    "## While Loop\n",
    "# While condition:\n",
    "#     execuiton code\n",
    "## contineu, break, pass"
   ]
  },
  {
   "cell_type": "code",
   "execution_count": null,
   "id": "0c749570-d083-4148-ac20-a90d90fb0356",
   "metadata": {},
   "outputs": [],
   "source": [
    "while "
   ]
  },
  {
   "cell_type": "code",
   "execution_count": null,
   "id": "58d1a8c1-2522-4f4f-9d4c-6e262392db4b",
   "metadata": {},
   "outputs": [],
   "source": [
    "x = 0;\n",
    "\n",
    "# while x<15:\n",
    "#     if x<8:\n",
    "#         x+=1\n",
    "#         continue\n",
    "#     else:\n",
    "#         print(x)\n",
    "\n",
    "while x<15:\n",
    "    if x<8:\n",
    "        x = x+1\n",
    "        print(\"not there yet\")\n",
    "        continue\n",
    "    else:\n",
    "        print(x)\n",
    "        x = x+1\n",
    "    "
   ]
  },
  {
   "cell_type": "code",
   "execution_count": null,
   "id": "42f64ef1-e3b7-4beb-8ff9-f86d4926c312",
   "metadata": {},
   "outputs": [],
   "source": [
    "## Useful Operators\n",
    "# range(start,end,step)\n"
   ]
  },
  {
   "cell_type": "code",
   "execution_count": null,
   "id": "372d00fa-46ed-4921-a97f-3ef329c14641",
   "metadata": {},
   "outputs": [],
   "source": [
    "for x in range(8,20,3):\n",
    "    print(x)"
   ]
  },
  {
   "cell_type": "code",
   "execution_count": null,
   "id": "6a5376e7-a78c-46dd-b65c-5a9897086312",
   "metadata": {},
   "outputs": [],
   "source": [
    "y = list(range(8,20,3))"
   ]
  },
  {
   "cell_type": "code",
   "execution_count": null,
   "id": "766eb330-b71c-4b5e-92ee-ea3607a70158",
   "metadata": {},
   "outputs": [],
   "source": [
    "y"
   ]
  },
  {
   "cell_type": "code",
   "execution_count": null,
   "id": "6eb74504-884c-4001-825f-dfd7a76e1751",
   "metadata": {},
   "outputs": [],
   "source": [
    "#naam=0 \n",
    "#for x in 'shoeb':\n",
    "#     print(f'index of {x} is {naam}')\n",
    "#     naam +=1\n",
    "\n",
    "#insted use\n",
    "# enumerate return tuple with index and the supplied data\n",
    "\n",
    "# for x in enumerate('shoeb'):\n",
    "#    print(x)"
   ]
  },
  {
   "cell_type": "code",
   "execution_count": null,
   "id": "a22ea523-0c31-403a-83a2-12e19c8b6a7d",
   "metadata": {},
   "outputs": [],
   "source": [
    "for index,value in enumerate('shoeb'):\n",
    "   print(f\"index of {value} is {index}\")"
   ]
  },
  {
   "cell_type": "code",
   "execution_count": null,
   "id": "73f35123-72c5-4559-8ad5-6f42037ce3f8",
   "metadata": {},
   "outputs": [],
   "source": [
    "## zip(list1,list2,...) of the same size gets paired together and returned as a tuple.\n",
    "## in operator is used to check if elements are in a list, dictionary or not"
   ]
  },
  {
   "cell_type": "code",
   "execution_count": null,
   "id": "e2b8e87f-d929-40ef-9ca9-17b7e4e8fcc9",
   "metadata": {},
   "outputs": [],
   "source": [
    "l1 = range(0,10)\n",
    "l2 = range(11,20)\n",
    "zip(l1,l2)"
   ]
  },
  {
   "cell_type": "code",
   "execution_count": null,
   "id": "8cc9a392-fc23-4ea8-a545-fbbd63f72be5",
   "metadata": {},
   "outputs": [],
   "source": [
    "for x in zip(l1,l2):\n",
    "    print(x)"
   ]
  },
  {
   "cell_type": "code",
   "execution_count": null,
   "id": "03d894da-01ea-42f0-90c2-c1b83077976c",
   "metadata": {},
   "outputs": [],
   "source": [
    "z = list(zip(l1,l2))\n",
    "print(z)"
   ]
  },
  {
   "cell_type": "code",
   "execution_count": null,
   "id": "0ae4b8ef-381a-421f-bf56-2b82fa93bb7c",
   "metadata": {},
   "outputs": [],
   "source": [
    "from random import shuffle\n",
    "shuffle(z)\n",
    "print(z)"
   ]
  },
  {
   "cell_type": "markdown",
   "id": "92d69fc5-9f16-4437-acb5-cc91ffa65924",
   "metadata": {},
   "source": [
    "## USER INPUT\n",
    "#    input()"
   ]
  },
  {
   "cell_type": "code",
   "execution_count": null,
   "id": "a21435ff-cd1c-48fe-ac0e-054ae9112f89",
   "metadata": {},
   "outputs": [],
   "source": [
    "a = input()"
   ]
  },
  {
   "cell_type": "code",
   "execution_count": null,
   "id": "7dd9ff47-5485-4063-a87b-e0bb799ed5f5",
   "metadata": {},
   "outputs": [],
   "source": [
    "a"
   ]
  },
  {
   "cell_type": "code",
   "execution_count": null,
   "id": "bbb9f187-a961-4101-984c-963ddbf67b15",
   "metadata": {},
   "outputs": [],
   "source": [
    "# list comprehension\n",
    "# value/variable for cup/iterative variable in source/data\n",
    "list1 = [x for x in 'word']"
   ]
  },
  {
   "cell_type": "code",
   "execution_count": null,
   "id": "55fadf09-f667-4046-b4ab-b641c099e7c2",
   "metadata": {},
   "outputs": [],
   "source": [
    "list1"
   ]
  },
  {
   "cell_type": "code",
   "execution_count": null,
   "id": "c4684a6f-c22a-43ef-b563-fb04ba277540",
   "metadata": {},
   "outputs": [],
   "source": [
    "list2 = [x for x in range(0,10)]"
   ]
  },
  {
   "cell_type": "code",
   "execution_count": null,
   "id": "13fc414e-f2fa-4b3b-8346-5064fb96ad6f",
   "metadata": {},
   "outputs": [],
   "source": [
    "list2"
   ]
  },
  {
   "cell_type": "code",
   "execution_count": null,
   "id": "dc99c94f-75ad-4d86-96ed-39e1bb9c78a4",
   "metadata": {},
   "outputs": [],
   "source": [
    "list3 = [x for x in range(0,10) if x%2 ==0]"
   ]
  },
  {
   "cell_type": "code",
   "execution_count": null,
   "id": "bac02065-e0ff-4257-b61a-c85f65fb4bcc",
   "metadata": {},
   "outputs": [],
   "source": [
    "list3"
   ]
  },
  {
   "cell_type": "code",
   "execution_count": null,
   "id": "0a9b21d0-0e17-43e7-878d-d0055a23ea7b",
   "metadata": {},
   "outputs": [],
   "source": [
    "celcius = [0,20,30]\n",
    "fahrenheit = [((9/5)*temp + 32) for temp in celcius]"
   ]
  },
  {
   "cell_type": "code",
   "execution_count": null,
   "id": "cb5f8896-d17d-4674-a318-5f67832bc2aa",
   "metadata": {},
   "outputs": [],
   "source": [
    "fahrenheit"
   ]
  },
  {
   "cell_type": "code",
   "execution_count": null,
   "id": "40104a61-d475-417b-bc98-48f7d72d8b06",
   "metadata": {},
   "outputs": [],
   "source": [
    "for x in celcius:\n",
    "    fahrenheit.append((9/5)*x+32)"
   ]
  },
  {
   "cell_type": "code",
   "execution_count": null,
   "id": "0981f87f-05f4-482d-b0d3-47c824360a98",
   "metadata": {},
   "outputs": [],
   "source": [
    "fahrenheit"
   ]
  },
  {
   "cell_type": "code",
   "execution_count": null,
   "id": "b7910967-57fa-4a7a-a096-32b578e24b18",
   "metadata": {},
   "outputs": [],
   "source": [
    "resutlts  = ['even' if x%2 == 0  else 'ODD' for x in range(0,10)]"
   ]
  },
  {
   "cell_type": "code",
   "execution_count": null,
   "id": "5a911559-3563-4724-b96d-37a2738b88cd",
   "metadata": {},
   "outputs": [],
   "source": [
    "resutlts"
   ]
  },
  {
   "cell_type": "code",
   "execution_count": null,
   "id": "e0745915-394b-43e4-9ffb-f0f8e23e577f",
   "metadata": {},
   "outputs": [],
   "source": [
    "#nested loop\n",
    "list1 = []\n",
    "for x in [1,2,3]:\n",
    "    for y in [100,200,300]:\n",
    "        list1.append(x*y)"
   ]
  },
  {
   "cell_type": "code",
   "execution_count": null,
   "id": "6bc98e58-0305-4706-93fa-9d6403e42627",
   "metadata": {},
   "outputs": [],
   "source": [
    "list1"
   ]
  },
  {
   "cell_type": "code",
   "execution_count": null,
   "id": "bff36b25-629c-46a1-8d62-178d5130c0c8",
   "metadata": {},
   "outputs": [],
   "source": [
    "#help() gives info on how to use a method\n",
    "help(list1.append)"
   ]
  },
  {
   "cell_type": "markdown",
   "id": "efab67ca-a39f-4eb3-9c76-298b7c7aed24",
   "metadata": {},
   "source": [
    "## Starting functions: One of the most impostant topics in pytnon\n"
   ]
  },
  {
   "cell_type": "code",
   "execution_count": null,
   "id": "a4d257eb-118a-4343-a87a-a42a541173a7",
   "metadata": {},
   "outputs": [],
   "source": [
    "# def name_of_function() this follows snake casing (like_this_adlkfaskldf)\n",
    "# def print_my_name():\n",
    "# ,,,\n",
    "# docstring to explain what happens in a function.(,,,)\n",
    "# ,,,\n",
    "# print(\"zeeshan\")\n",
    "\n",
    "# to call a function - print_my_name()"
   ]
  },
  {
   "cell_type": "code",
   "execution_count": null,
   "id": "c5f65a44-6181-4370-a82e-628c73740f34",
   "metadata": {},
   "outputs": [],
   "source": [
    " def say_hello(name='default'):\n",
    "\n",
    "     return (f\"hello {name}\")\n",
    "     \n",
    "say_hello(\"adfafsa\")"
   ]
  },
  {
   "cell_type": "code",
   "execution_count": null,
   "id": "637368a7-445b-4025-8dbb-dc5d4d1768d8",
   "metadata": {},
   "outputs": [],
   "source": [
    "def even_check(num):\n",
    "    return num%2 == 0"
   ]
  },
  {
   "cell_type": "code",
   "execution_count": null,
   "id": "bd4d053c-1832-4cfd-8e54-315a0812bf02",
   "metadata": {},
   "outputs": [],
   "source": [
    "even_check(20)"
   ]
  },
  {
   "cell_type": "code",
   "execution_count": null,
   "id": "79f1eb43-7462-4563-bcaa-f3afc4d8684a",
   "metadata": {},
   "outputs": [],
   "source": [
    "# RETURN TRUE IF ANY NUMBER IS EVEN IN A LIST\n",
    "\n",
    "\n",
    "# def check_even_list(list):\n",
    "#     for x in list:\n",
    "#         if x%2 == 0:\n",
    "#             return True\n",
    "#         else:\n",
    "#             pass\n",
    "#     return False\n",
    "\n",
    "# RETURN LIST ON EVEN NUMBERS IN A LIST\n",
    "def check_even_list(list):\n",
    "    evenList =[]\n",
    "    for x in list:\n",
    "        if x%2 == 0:\n",
    "            evenList.append(x)\n",
    "        else:\n",
    "            pass\n",
    "    return evenList"
   ]
  },
  {
   "cell_type": "code",
   "execution_count": null,
   "id": "b80e1e19-ac81-45f2-8ff5-20271f579237",
   "metadata": {},
   "outputs": [],
   "source": [
    "check_even_list([2,12,11])"
   ]
  },
  {
   "cell_type": "code",
   "execution_count": null,
   "id": "6b599869-2877-4c1d-9c94-bac27c6567ce",
   "metadata": {},
   "outputs": [],
   "source": [
    "# TUPLE UNPACKING IN PYTHON\n",
    "stock_prices = [('apple',20)]"
   ]
  },
  {
   "cell_type": "code",
   "execution_count": null,
   "id": "17d66376-de13-4a5d-aabd-4ac44a01a2ae",
   "metadata": {},
   "outputs": [],
   "source": [
    "type(stock_prices[0])"
   ]
  },
  {
   "cell_type": "code",
   "execution_count": null,
   "id": "f468e30f-30f1-4a58-9664-7f8125825b5f",
   "metadata": {},
   "outputs": [],
   "source": [
    "stock_prices = [('apple',20),('google',100),('MRF',200)]"
   ]
  },
  {
   "cell_type": "code",
   "execution_count": null,
   "id": "968157ee-40d4-432a-91e6-41a3b9f42edb",
   "metadata": {},
   "outputs": [],
   "source": [
    "def tuple_unpacking(tuple):\n",
    "    for name,price in stock_prices:\n",
    "        \n",
    "        return name"
   ]
  },
  {
   "cell_type": "code",
   "execution_count": null,
   "id": "bff16317-f71b-494c-ab14-e7d5fadf5acc",
   "metadata": {},
   "outputs": [],
   "source": [
    "tuple_unpacking(stock_prices)"
   ]
  },
  {
   "cell_type": "code",
   "execution_count": null,
   "id": "b457466d-ac01-416f-9bb8-59e687172d4d",
   "metadata": {},
   "outputs": [],
   "source": [
    "for name,price in stock_prices:\n",
    "    print(name)"
   ]
  },
  {
   "cell_type": "code",
   "execution_count": null,
   "id": "acd65f74-89da-4e26-89c4-4376ee1226bb",
   "metadata": {},
   "outputs": [],
   "source": [
    "def tuple_unpacking(tuple):\n",
    "    total_price = 0\n",
    "    company_combo = ''\n",
    "    for name,price in stock_prices:\n",
    "        total_price += price\n",
    "        company_combo += name\n",
    "    return (company_combo,total_price)"
   ]
  },
  {
   "cell_type": "code",
   "execution_count": null,
   "id": "804586c8-21f6-42db-b511-a0fce8e20fa0",
   "metadata": {},
   "outputs": [],
   "source": [
    "name,num = tuple_unpacking(stock_prices)"
   ]
  },
  {
   "cell_type": "code",
   "execution_count": null,
   "id": "11876a3f-015d-435f-80c1-4058ce110662",
   "metadata": {},
   "outputs": [],
   "source": [
    "name"
   ]
  },
  {
   "cell_type": "code",
   "execution_count": null,
   "id": "9ac433d0-d073-4f6a-bda8-a03b91bb0b26",
   "metadata": {},
   "outputs": [],
   "source": [
    "num"
   ]
  },
  {
   "cell_type": "code",
   "execution_count": null,
   "id": "bbe56467-a178-4d3f-abab-56aea1891a05",
   "metadata": {},
   "outputs": [],
   "source": [
    "# Write a function to find the longest common prefix string amongst an array of strings.\n",
    "\n",
    "# If there is no common prefix, return an empty string \"\".\n",
    "\n",
    " \n",
    "\n",
    "# Example 1:\n",
    "\n",
    "# Input: strs = [\"flower\",\"flow\",\"flight\"]\n",
    "# Output: \"fl\"\n",
    "\n",
    "# Example 2:\n",
    "\n",
    "# Input: strs = [\"dog\",\"racecar\",\"car\"]\n",
    "# Output: \"\"\n",
    "# Explanation: There is no common prefix among the input strings.\n",
    "\n",
    "def longestCommonPrefix(strs):\n",
    "    \"\"\"\n",
    "    :type strs: List[str]\n",
    "    :rtype: str\n",
    "    \"\"\"\n",
    "    print(strs)\n",
    "    length = len(strs)\n",
    "    commonPrefix = []\n",
    "    for x in enumerate(strs):\n",
    "        \n",
    "        "
   ]
  },
  {
   "cell_type": "code",
   "execution_count": null,
   "id": "ba1ac1ac-ef4b-4caf-bc02-3dca81c13cd7",
   "metadata": {},
   "outputs": [],
   "source": [
    "longestCommonPrefix(['a','b','b'])"
   ]
  },
  {
   "cell_type": "code",
   "execution_count": null,
   "id": "3478eefe-9bae-4441-92da-e508a0279c5d",
   "metadata": {},
   "outputs": [],
   "source": [
    "list1"
   ]
  },
  {
   "cell_type": "code",
   "execution_count": null,
   "id": "165f452f-c229-4642-873e-a63205ac8f5c",
   "metadata": {},
   "outputs": [],
   "source": [
    "for x in enumerate(\"zee\"):\n",
    "    print(x)"
   ]
  },
  {
   "cell_type": "code",
   "execution_count": 133,
   "id": "b6f64759-bcab-4bb0-91e0-10ddfb2efdfa",
   "metadata": {},
   "outputs": [
    {
     "data": {
      "text/plain": [
       "['zszas', 'zzaas', 'zzas', 'zzas', 'zzat']"
      ]
     },
     "execution_count": 133,
     "metadata": {},
     "output_type": "execute_result"
    }
   ],
   "source": [
    "    # Initialize an empty string ans to store the common prefix.\n",
    "    # Sort the input list v lexicographically. This step is necessary because the common prefix should be common to all the strings, so we need to find the common prefix of the first and last string in the sorted list.\n",
    "    # Iterate through the characters of the first and last string in the sorted list, stopping at the length of the shorter string.\n",
    "    # If the current character of the first string is not equal to the current character of the last string, return the common prefix found so far.\n",
    "    # Otherwise, append the current character to the ans string.\n",
    "    # Return the ans string containing the longest common prefix.\n",
    "\n",
    "#TRY!\n",
    "\n",
    "# ans = ''\n",
    "# list2 = ['zzaas','zzas','zzas','zszas','zzat']\n",
    "# # ['zszas', 'zzaas', 'zzas', 'zzas', 'zzat']\n",
    "# list2.sort()\n",
    "# list2\n",
    "# str1 = min(list2)\n",
    "# str2 = max(list2)\n",
    "# str1\n",
    "#     if len(str1)>len(str2):\n",
    "#         minStrLen = len(str2)-1\n",
    "#     else:\n",
    "#         minStrLen = len(str1)-1\n",
    "# # strLen = minStrLen + 1\n",
    "# minStrLen       \n",
    "#     if str1[minStrLen] == str2[minStrLen]:\n",
    "#         for x in str1:\n",
    "#             ans += x\n",
    "#     else:\n",
    "#         for x in str1[0:minStrLen]:\n",
    "#             ans += x\n",
    "# ans\n",
    "\n",
    "            \n",
    "# str1[0:strLen]"
   ]
  },
  {
   "cell_type": "code",
   "execution_count": 176,
   "id": "ac364a7e-93fc-4217-891b-1da7bc215da0",
   "metadata": {},
   "outputs": [
    {
     "data": {
      "text/plain": [
       "['zzaas', 'zzas', 'zzas', 'zzat', 'zzszas']"
      ]
     },
     "execution_count": 176,
     "metadata": {},
     "output_type": "execute_result"
    }
   ],
   "source": [
    "# Initialize an empty string ans to store the common prefix.\n",
    "# Sort the input list v lexicographically. This step is necessary because the common prefix should be common to all the strings, so we need to find the common prefix of the first and last string in the sorted list.\n",
    "# Iterate through the characters of the first and last string in the sorted list, stopping at the length of the shorter string.\n",
    "# If the current character of the first string is not equal to the current character of the last string, return the common prefix found so far.\n",
    "# Otherwise, append the current character to the ans string.\n",
    "# Return the ans string containing the longest common prefix.\n",
    "\n",
    "v = ['zzaas','zzas','zzas','zzszas','zzat']\n",
    "ans=\"\"\n",
    "v=sorted(v)\n",
    "first=v[0]\n",
    "last=v[-1]\n",
    "for i in range(min(len(first),len(last))):\n",
    "    if(first[i]!=last[i]):\n",
    "        break\n",
    "    ans+=first[i]"
   ]
  },
  {
   "cell_type": "code",
   "execution_count": 175,
   "id": "0b64eb86-89f9-45f7-bc19-d63462687d6a",
   "metadata": {},
   "outputs": [
    {
     "data": {
      "text/plain": [
       "'zz'"
      ]
     },
     "execution_count": 175,
     "metadata": {},
     "output_type": "execute_result"
    }
   ],
   "source": [
    "ans"
   ]
  },
  {
   "cell_type": "code",
   "execution_count": 178,
   "id": "69523064-a4b1-49d6-aa78-887418bccab5",
   "metadata": {},
   "outputs": [
    {
     "name": "stdout",
     "output_type": "stream",
     "text": [
      "0\n",
      "1\n",
      "2\n",
      "3\n",
      "4\n"
     ]
    }
   ],
   "source": []
  },
  {
   "cell_type": "code",
   "execution_count": 219,
   "id": "961081ed-3205-4055-905d-d8fe95af72ba",
   "metadata": {},
   "outputs": [
    {
     "name": "stdout",
     "output_type": "stream",
     "text": [
      "['(']\n",
      "iteration start (\n",
      "1\n",
      "[]\n",
      "['[']\n",
      "iteration start (\n",
      "False\n",
      "['[']\n"
     ]
    }
   ],
   "source": [
    "# Given a string s containing just the characters '(', ')', '{', '}', '[' and ']', determine if the input string is valid.\n",
    "\n",
    "# An input string is valid if:\n",
    "\n",
    "#     Open brackets must be closed by the same type of brackets.\n",
    "#     Open brackets must be closed in the correct order.\n",
    "#     Every close bracket has a corresponding open bracket of the same type.\n",
    "\n",
    "# FIRST TRY\n",
    "# stack = []\n",
    "# s =[\"(\",\")\",\"[\",\"]\"]\n",
    "# empty = []\n",
    "# for x in s:\n",
    "#     if x == \"(\" or x == \"{\" or x ==\"[\":\n",
    "#         stack.append(x)\n",
    "#     else:\n",
    "#         print(f\"iteration start {s[0]}\")\n",
    "#         if s[0] == \"(\" and x ==\")\":\n",
    "#             stack.pop()\n",
    "#             if (not stack):\n",
    "#                 pass\n",
    "#             else:\n",
    "#                 stack.pop()\n",
    "#             print(\"1\")\n",
    "#         elif s[0] == \"{\" and x ==\"}\":\n",
    "#             stack.pop()\n",
    "#             if (stack!=empty):\n",
    "#                 stack.pop()\n",
    "#             print(\"2\")\n",
    "#         elif s[0] == \"[\" and x ==\"]\":\n",
    "#             stack.pop()\n",
    "#             if (stack!=empty):\n",
    "#                 stack.pop()\n",
    "#             print(\"3\")\n",
    "#         else:\n",
    "#             print(False)\n",
    "#     print(stack)"
   ]
  },
  {
   "cell_type": "markdown",
   "id": "bd89e882-bfcc-4a6f-bf53-bb95e1a792bd",
   "metadata": {},
   "source": [
    "# Following code works for the test cases given for this problem"
   ]
  },
  {
   "cell_type": "code",
   "execution_count": 252,
   "id": "1358b922-cc9b-4e0d-9e31-b12b1e379f5e",
   "metadata": {},
   "outputs": [
    {
     "name": "stdout",
     "output_type": "stream",
     "text": [
      "['(']\n",
      "['(', '[']\n",
      "['(', '[', '{']\n",
      "iteration start (\n",
      "iterative variable value }\n",
      "False\n",
      "['(', '[', '{']\n",
      "iteration start (\n",
      "iterative variable value ]\n",
      "False\n",
      "['(', '[', '{']\n",
      "iteration start (\n",
      "iterative variable value )\n",
      "1\n",
      "[]\n"
     ]
    }
   ],
   "source": [
    "\n",
    "\n",
    "# stack = []\n",
    "# s =[\"(\",\"[\",\"{\",\"}\",\"]\",\")\"]\n",
    "# empty = []\n",
    "# for x in s:\n",
    "#     if x == \"(\" or x == \"{\" or x ==\"[\":\n",
    "#         stack.append(x)\n",
    "#     else:\n",
    "#         print(f\"iteration start {stack[0]}\")\n",
    "#         print(f\"iterative variable value {x}\")\n",
    "#         if stack[0] == \"(\" and x ==\")\":\n",
    "#             print(\"1\")\n",
    "#             while (stack):\n",
    "#                stack.pop()\n",
    "#         elif stack[0] == \"{\" and x ==\"}\":\n",
    "#             print(\"2\")\n",
    "#             while (stack):\n",
    "#                stack.pop()\n",
    "#         elif stack[0] == \"[\" and x ==\"]\":\n",
    "#             print(\"3\")\n",
    "#             while (stack):\n",
    "#                stack.pop()\n",
    "#         else:\n",
    "#             print(False)\n",
    "#     print(stack)"
   ]
  },
  {
   "cell_type": "code",
   "execution_count": 250,
   "id": "d6c9e1dd-478d-43b0-a6c5-ef714e98a045",
   "metadata": {},
   "outputs": [],
   "source": [
    "    # def isValid(s):\n",
    "    #     stack = [] # create an empty stack to store opening brackets\n",
    "    #     for c in s: # loop through each character in the string\n",
    "    #         if c in '([{': # if the character is an opening bracket\n",
    "    #             stack.append(c) # push it onto the stack\n",
    "    #         else: # if the character is a closing bracket\n",
    "    #             if not stack or \\\n",
    "    #                 (c == ')' and stack[-1] != '(') or \\\n",
    "    #                 (c == '}' and stack[-1] != '{') or \\\n",
    "    #                 (c == ']' and stack[-1] != '['):\n",
    "    #                 return False # the string is not valid, so return false\n",
    "    #             stack.pop() # otherwise, pop the opening bracket from the stack\n",
    "    #     return not stack # if the stack is empty, all opening brackets have been matched with their corresponding closing brackets,\n",
    "    #                      # so the string is valid, otherwise, there are unmatched opening brackets, so return false"
   ]
  },
  {
   "cell_type": "code",
   "execution_count": 13,
   "id": "baad5888-3345-4cd2-b9c6-ea7a3187c7b9",
   "metadata": {},
   "outputs": [],
   "source": [
    "# You are given the heads of two sorted linked lists list1 and list2.\n",
    "\n",
    "# Merge the two lists into one sorted list. The list should be made by splicing together the nodes of the first two lists.\n",
    "\n",
    "# Return the head of the merged linked list.\n",
    "\n",
    "# Input: list1 = [1,2,4], list2 = [1,3,4]\n",
    "# Output: [1,1,2,3,4,4]\n",
    "\n",
    "# list1 = [1,2,4]\n",
    "# list2 = [1,3,4]\n",
    "# target = []\n",
    "# for x in range(min(len(list1),len(list2))):\n",
    "#         # target.append(list1[x])\n",
    "#         # target.append(list2[x])\n",
    "#     target.append(list1[x])\n",
    "#     target.append(list2[x])\n",
    "# target.sort()\n",
    "\n",
    "# need to use NodeList not list so I will solve this later"
   ]
  },
  {
   "cell_type": "code",
   "execution_count": 1,
   "id": "e6c0eb6c",
   "metadata": {},
   "outputs": [
    {
     "ename": "SyntaxError",
     "evalue": "invalid syntax (1724058557.py, line 40)",
     "output_type": "error",
     "traceback": [
      "\u001b[1;36m  Cell \u001b[1;32mIn[1], line 40\u001b[1;36m\u001b[0m\n\u001b[1;33m    if\u001b[0m\n\u001b[1;37m       ^\u001b[0m\n\u001b[1;31mSyntaxError\u001b[0m\u001b[1;31m:\u001b[0m invalid syntax\n"
     ]
    }
   ],
   "source": [
    "# Given an integer array nums sorted in non-decreasing order, remove the duplicates in-place such that each unique element appears only once. The relative order of the elements should be kept the same. Then return the number of unique elements in nums.\n",
    "\n",
    "# Consider the number of unique elements of nums to be k, to get accepted, you need to do the following things:\n",
    "\n",
    "#     Change the array nums such that the first k elements of nums contain the unique elements in the order they were present in nums initially. The remaining elements of nums are not important as well as the size of nums.\n",
    "#     Return k.\n",
    "\n",
    "# Custom Judge:\n",
    "\n",
    "# The judge will test your solution with the following code:\n",
    "\n",
    "# int[] nums = [...]; // Input array\n",
    "# int[] expectedNums = [...]; // The expected answer with correct length\n",
    "\n",
    "# int k = removeDuplicates(nums); // Calls your implementation\n",
    "\n",
    "# assert k == expectedNums.length;\n",
    "# for (int i = 0; i < k; i++) {\n",
    "#     assert nums[i] == expectedNums[i];\n",
    "# }\n",
    "\n",
    "# If all assertions pass, then your solution will be accepted.\n",
    "\n",
    " \n",
    "\n",
    "# Example 1:\n",
    "\n",
    "# Input: nums = [1,1,2]\n",
    "# Output: 2, nums = [1,2,_]\n",
    "# Explanation: Your function should return k = 2, with the first two elements of nums being 1 and 2 respectively.\n",
    "# It does not matter what you leave beyond the returned k (hence they are underscores).\n",
    "\n",
    "\n",
    "# nums = [1,1,2]\n",
    "# nums.sort()\n",
    "# temp = []\n",
    "# k = 0\n",
    "# for x in nums:\n",
    "#     temp.append(x)\n",
    "#     if \n",
    "\n"
   ]
  },
  {
   "cell_type": "code",
   "execution_count": 2,
   "id": "ad05acf8",
   "metadata": {},
   "outputs": [],
   "source": [
    "from random import shuffle\n",
    "def shuffle_list(mylist):\n",
    "    shuffle(mylist)\n",
    "    return mylist"
   ]
  },
  {
   "cell_type": "code",
   "execution_count": 8,
   "id": "396837a5",
   "metadata": {},
   "outputs": [],
   "source": [
    "list1 = [\" \",\" \",\"O\",\" \",\" \"]"
   ]
  },
  {
   "cell_type": "code",
   "execution_count": 11,
   "id": "69d90a1b",
   "metadata": {},
   "outputs": [
    {
     "data": {
      "text/plain": [
       "[' ', ' ', 'O', ' ', ' ']"
      ]
     },
     "execution_count": 11,
     "metadata": {},
     "output_type": "execute_result"
    }
   ],
   "source": [
    "shuffle_list(list1)"
   ]
  },
  {
   "cell_type": "code",
   "execution_count": 27,
   "id": "c3a03b88",
   "metadata": {},
   "outputs": [],
   "source": [
    "# def player_guess():\n",
    "#     guess = \"\"\n",
    "#     while guess not in :\n",
    "#         guess = input(\"pick a number 0 - 5\")\n",
    "#     return int(guess)\n",
    "list_a = range(0,5)"
   ]
  },
  {
   "cell_type": "code",
   "execution_count": 29,
   "id": "fc037493",
   "metadata": {},
   "outputs": [],
   "source": [
    "for x in range(0,5):\n",
    "    list_a = x"
   ]
  },
  {
   "cell_type": "code",
   "execution_count": 1,
   "id": "2e4f0604",
   "metadata": {},
   "outputs": [],
   "source": [
    "# There is a large pile of socks that must be paired by color. Given an array of integers representing the color of each sock, determine how many pairs of socks with matching colors there are.\n",
    "# Example\n",
    "\n",
    "\n",
    "# There is one pair of color  and one of color . There are three odd socks left, one of each color. The number of pairs is .\n",
    "# Function Description\n",
    "# Complete the sockMerchant function in the editor below.\n",
    "# sockMerchant has the following parameter(s):\n",
    "# int n: the number of socks in the pile\n",
    "# int ar[n]: the colors of each sock\n",
    "# Returns\n",
    "# int: the number of pairs\n",
    "# Input Format\n",
    "# The first line contains an integer n, the number of socks represented in .\n",
    "# The second line contains n space-separated integers, ar[i], the colors of the socks in the pile.\n",
    "# Constraints\n"
   ]
  },
  {
   "cell_type": "code",
   "execution_count": 6,
   "id": "85e13318",
   "metadata": {},
   "outputs": [
    {
     "name": "stdout",
     "output_type": "stream",
     "text": [
      "6\n"
     ]
    },
    {
     "data": {
      "text/plain": [
       "6"
      ]
     },
     "execution_count": 6,
     "metadata": {},
     "output_type": "execute_result"
    }
   ],
   "source": [
    "# The TikTok Content creator's videos receives feedback from Viewers over time, represented as a binary string videoFeedback\n",
    "# •⁠  ⁠1 Indicates positive reactions(likes, shares, or comments).\n",
    "# •⁠  ⁠0 Indicates negative reactions(skips or dislikes).\n",
    "\n",
    "# The creator wants to Improve a video's overall positive reception by strategically targeting a portion of the video from re-editing or improvement. Here's the strategy.\n",
    "# •⁠  ⁠Choose one specific segment of the video(interval [i, j] to leave unchanged, where i> 0 and j < videoFeedback_size.\n",
    "# •⁠  ⁠Outside this segment, the plan is to completely change the content-flipping negative reactions to positive(0 to 1) and positive reactions to negative(1 to 0).\n",
    "# The objective is to maximize the total positive feedback(1s) for the entire video after performing this operation.\n",
    "# Note: The operation must be performed only once.\n",
    "# Example\n",
    "# Given videoFeedback_size = 6 and videoFeedback = \"100110\",3, 4\n",
    "# The interval i= 4 to j= 5 can be selected as the unchanged segment of the video.\n",
    "# Flipping the bits from index 1 to 3 transforms the string from \"100110\" to \"011110\"\n",
    "# Next, flipping the bit at index 6 (i.e., the last bit) changes the string from \"011110\" to \"011111\"\n",
    "# As this string contains 5 ones, the output should be 5. There are no intervals that produce an output greater than 5.\n",
    "# Function Description\n",
    "# Complete the function getMaxPositiveFeedback in the editor below. \n",
    "# getMaxPositiveFeedback has the following parameter:\n",
    "# string videoFeedback: a binary string representing the feedback on a video, where 1 represents positive feedback and 0 represents negative reaction\n",
    "# Returns\n",
    "# int: the maximum positive feedback after an operation\n",
    "\n",
    "# Constraints\n",
    "# •⁠  ⁠2 <= videoFeedback_size <= 3x 10**5\n",
    "# •⁠  ⁠videoFeedback[i] = '0' or '1'\n",
    "\n",
    "# Sample Input For Custom Testing\n",
    "\n",
    "# STDIN = 10000011\n",
    "\n",
    "# Function\n",
    "# videoFeedback = \"10000011\"\n",
    "\n",
    "# Sample Output\n",
    "# 6\n",
    "# Explanation\n",
    "# Given videoFeedback_size = 8 and videoFeedback = \"10000011\", we can select i = 7 and j=7.\n",
    "# First, flip the bits from index 1 to 6. The videoFeedback becomes \"01111111\".\n",
    "# Next, flip the bit at index 8. The videoFeedback becomes \"01111110\".\n",
    "# Hence, the answer is 6. It can be proven that the answer cannot be greater than 6.\n",
    "# •⁠  ⁠Sample Case 1\n",
    "# Sample Input For Custom Testing\n",
    "# STDIN = 0100101\n",
    "\n",
    "# FUNCTION\n",
    "# videoFeedback = \"0100101\"\n",
    "\n",
    "# Sample Output\n",
    "# 5\n",
    "# Explanation\n",
    "# Given videoFeedback size = 7 and and videoFeedback=\"0100101\", we can select i= 2 and j= 2.\n",
    "# First, flip the bit at index 1. The feedback becomes \"1100101\".\n",
    "# Next, flip the bits from index 3 to 7. The feedback becomes \"1111010\".\n",
    "# Hence, the answer is 5. It can be proven that the answer cannot be greater than 5.\n",
    "\n",
    "\n",
    "def getMaxPositiveFeedback(videoFeedback):\n",
    "    n = len(videoFeedback)\n",
    "    max_positive = 0\n",
    "\n",
    "    for i in range(1, n):\n",
    "        for j in range(i, n):\n",
    "            current_feedback = list(videoFeedback)  # Convert to list for mutability\n",
    "\n",
    "            # Flip bits before the segment\n",
    "            for k in range(0, i - 1):\n",
    "                current_feedback[k] = '1' if current_feedback[k] == '0' else '0'\n",
    "\n",
    "            # Flip bits after the segment\n",
    "            for k in range(j, n):\n",
    "                current_feedback[k] = '1' if current_feedback[k] == '0' else '0'\n",
    "\n",
    "            # Calculate positive feedback\n",
    "            positive_count = current_feedback.count('1')\n",
    "            max_positive = max(max_positive, positive_count)\n",
    "    print(max_positive)\n",
    "    return max_positive\n",
    "\n",
    "getMaxPositiveFeedback(\"10000011\")\n"
   ]
  },
  {
   "cell_type": "code",
   "execution_count": 7,
   "id": "bbd76d63",
   "metadata": {},
   "outputs": [
    {
     "data": {
      "text/plain": [
       "8"
      ]
     },
     "execution_count": 7,
     "metadata": {},
     "output_type": "execute_result"
    }
   ],
   "source": [
    "def getMaxPositiveFeedback(videoFeedback: str) -> int:\n",
    "    n = len(videoFeedback)\n",
    "    total_ones = sum(1 for c in videoFeedback if c == '1')\n",
    "    \n",
    "    max_flip_gain = 0\n",
    "    flip_gain = 0\n",
    "    \n",
    "    for feedback in videoFeedback:\n",
    "        flip_gain += 1 if feedback == '0' else -1\n",
    "        \n",
    "        if flip_gain < 0:\n",
    "            flip_gain = 0  # reset if flipping leads to a net loss\n",
    "        \n",
    "        max_flip_gain = max(max_flip_gain, flip_gain)\n",
    "        \n",
    "    return min(n, total_ones + max_flip_gain) if total_ones < n else total_ones - 1\n",
    "\n",
    "getMaxPositiveFeedback(\"10000011\")\n"
   ]
  },
  {
   "cell_type": "code",
   "execution_count": 10,
   "id": "502052e5",
   "metadata": {},
   "outputs": [
    {
     "data": {
      "text/plain": [
       "8"
      ]
     },
     "execution_count": 10,
     "metadata": {},
     "output_type": "execute_result"
    }
   ],
   "source": [
    "def getMaxPositiveFeedback(videoFeedback):\n",
    "    n = len(videoFeedback)\n",
    "    if n == 0:\n",
    "        return 0\n",
    "\n",
    "    ones_count = [0] * (n + 1)\n",
    "\n",
    "    # Compute prefix sum of '1's\n",
    "    for i in range(n):\n",
    "        ones_count[i + 1] = ones_count[i] + (1 if videoFeedback[i] == '1' else 0)\n",
    "\n",
    "    max_positive = 0\n",
    "\n",
    "    # Iterate over all possible segments [i, j]\n",
    "    for i in range(n):\n",
    "        for j in range(i, n):\n",
    "            # Count '1's before i\n",
    "            ones_before = ones_count[i]\n",
    "            # Count '1's after j\n",
    "            ones_after = ones_count[n] - ones_count[j + 1]\n",
    "            # Count '0's in range [i, j] (flipping makes them '1's)\n",
    "            zeros_flipped = (j - i + 1) - (ones_count[j + 1] - ones_count[i])\n",
    "\n",
    "            # Calculate max '1's after flipping [i, j]\n",
    "            max_positive = max(max_positive, ones_before + ones_after + zeros_flipped)\n",
    "\n",
    "    return max_positive\n",
    "\n",
    "getMaxPositiveFeedback(\"10000011\")"
   ]
  },
  {
   "cell_type": "code",
   "execution_count": 11,
   "id": "83851bdb",
   "metadata": {},
   "outputs": [
    {
     "name": "stdout",
     "output_type": "stream",
     "text": [
      "10\n",
      "8\n"
     ]
    }
   ],
   "source": [
    "def getMaxPositiveFeedback(videoFeedback: str) -> int:\n",
    "    total_ones = videoFeedback.count('1')\n",
    "    total_zeros = len(videoFeedback) - total_ones\n",
    "    \n",
    "    # Convert string to array: 0 → +1, 1 → -1\n",
    "    arr = [1 if ch == '0' else -1 for ch in videoFeedback]\n",
    "    \n",
    "    # Find min subarray sum (Kadane's variant)\n",
    "    min_sum = float('inf')\n",
    "    current_sum = 0\n",
    "    \n",
    "    for num in arr:\n",
    "        current_sum += num\n",
    "        min_sum = min(min_sum, current_sum)\n",
    "        if current_sum > 0:\n",
    "            current_sum = 0  # Reset the sum if positive\n",
    "    \n",
    "    # Max positive feedback after flipping\n",
    "    return total_ones - min_sum + total_zeros\n",
    "\n",
    "# Test cases\n",
    "print(getMaxPositiveFeedback(\"10000011\"))  # Output: 6\n",
    "print(getMaxPositiveFeedback(\"0100101\"))   # Output: 5"
   ]
  },
  {
   "cell_type": "code",
   "execution_count": 1,
   "id": "1ec9eef7",
   "metadata": {},
   "outputs": [
    {
     "data": {
      "text/plain": [
       "'01100011110000011011101100'"
      ]
     },
     "execution_count": 1,
     "metadata": {},
     "output_type": "execute_result"
    }
   ],
   "source": [
    "\"01100011110000011011101100\""
   ]
  },
  {
   "cell_type": "code",
   "execution_count": 46,
   "id": "a95a003a",
   "metadata": {},
   "outputs": [
    {
     "data": {
      "text/plain": [
       "'a tomato it is not'"
      ]
     },
     "execution_count": 46,
     "metadata": {},
     "output_type": "execute_result"
    }
   ],
   "source": [
    "# \n",
    "\n",
    "from random import randint\n",
    "InputString = \"this is a tomato it is not a vegetable it is really a fruit\"\n",
    "OutputLen = 5\n",
    "TargetString = []\n",
    "TempString = InputString.split()\n",
    "TempMap ={}\n",
    "\n",
    "\n",
    "for i in range(len(TempString)):\n",
    "    \n",
    "    next_element = \"\"\n",
    "    \n",
    "    if i == len(TempString) - 1:\n",
    "        next_element = TempString[0]\n",
    "    else:\n",
    "        next_element = TempString[i + 1]\n",
    "    \n",
    "    if TempString[i] in TempMap:\n",
    "        TempMap[TempString[i]].append(next_element)\n",
    "    else:\n",
    "        TempMap[TempString[i]] = [next_element]\n",
    "\n",
    "\n",
    "\n",
    "TargetString.append(TempString[randint(0, len(TempString)-1)])\n",
    "while len(TargetString) != OutputLen:\n",
    "   array1 = TempMap[TargetString[-1]]\n",
    "   rand1 = randint(0,len(array1)-1)\n",
    "   final1 = array1[rand1]\n",
    "   TargetString.append(final1)\n",
    "' '.join(TargetString)"
   ]
  },
  {
   "cell_type": "code",
   "execution_count": 34,
   "id": "1fa639c3",
   "metadata": {},
   "outputs": [
    {
     "data": {
      "text/plain": [
       "[0, 1, 2, 3, 4, 5, 6, 7]"
      ]
     },
     "execution_count": 34,
     "metadata": {},
     "output_type": "execute_result"
    }
   ],
   "source": [
    "# You are given the heads of two sorted linked lists list1 and list2.\n",
    "\n",
    "# Merge the two lists into one sorted list. The list should be made by splicing together the nodes of the first two lists.\n",
    "\n",
    "# Return the head of the merged linked list.\n",
    "list1 = [0]\n",
    "list2 = [1,2,3,2,5,4,6,6,7,7,7]\n",
    "finalList = []\n",
    "if list1 == [] and list2!=[]:\n",
    "    list2.sort()\n",
    "    finalList = list(set(list2))\n",
    "    # return finalList\n",
    "elif list2 == [] and list1!=[]:\n",
    "    list1.sort()\n",
    "    finalList = list(set(list1))\n",
    "    # return finalList\n",
    "else:\n",
    "    fianlList = []\n",
    "\n",
    "for x in range(len(list2)):\n",
    "    list1.append(list2[x])\n",
    "# hashmap1 = {}\n",
    "list1.sort()\n",
    "finalList = list(set(list1))\n",
    "\n",
    "finalList\n",
    "\n"
   ]
  },
  {
   "cell_type": "code",
   "execution_count": null,
   "id": "ee9d5c70",
   "metadata": {},
   "outputs": [
    {
     "name": "stdout",
     "output_type": "stream",
     "text": [
      "[1, 3, 4, 5, 7, 8, 9, 11, 12]\n"
     ]
    }
   ],
   "source": [
    "\n",
    "def mergeTwoLists(list1, list2) ->list:\n",
    "    finalList = []\n",
    "    if list1 == [] and list2!=[]:\n",
    "        list2.sort()\n",
    "        finalList = list(set(list2))\n",
    "        return finalList\n",
    "    elif list2 == [] and list1!=[]:\n",
    "        list1.sort()\n",
    "        finalList = list(set(list1))\n",
    "        return finalList\n",
    "    elif list1 == [] and list2==[]:\n",
    "        return finalList\n",
    "    else:\n",
    "        for x in range(len(list2)):\n",
    "            list1.append(list2[x])\n",
    "        list1.sort()\n",
    "        finalList = list(set(list1))\n",
    "        return finalList\n",
    "print(mergeTwoLists([1,1,7,7,8,8,3,3,4,5],[9,9,12,12,11]))"
   ]
  },
  {
   "cell_type": "code",
   "execution_count": 43,
   "id": "7b34dc27",
   "metadata": {},
   "outputs": [
    {
     "name": "stdout",
     "output_type": "stream",
     "text": [
      "1 -> 2 -> 3 -> None\n",
      "1 -> 2 -> 4 -> 3 -> None\n",
      "1 -> 4 -> 3 -> None\n"
     ]
    }
   ],
   "source": [
    "class ListNode:\n",
    "    def __init__(self, value=0, next=None):\n",
    "        self.value = value\n",
    "        self.next = next\n",
    "\n",
    "class LinkedList:\n",
    "    def __init__(self):\n",
    "        self.head = None\n",
    "\n",
    "    def append(self, value):\n",
    "        new_node = ListNode(value)\n",
    "        if not self.head:\n",
    "            self.head = new_node\n",
    "            return\n",
    "        current = self.head\n",
    "        while current.next:\n",
    "            current = current.next\n",
    "        current.next = new_node\n",
    "\n",
    "    def display(self):\n",
    "        current = self.head\n",
    "        while current:\n",
    "            print(current.value, end=\" -> \")\n",
    "            current = current.next\n",
    "        print(\"None\")\n",
    "\n",
    "    def insert(self, value, position):\n",
    "        new_node = ListNode(value)\n",
    "        if position == 0:\n",
    "            new_node.next = self.head\n",
    "            self.head = new_node\n",
    "            return\n",
    "        current = self.head\n",
    "        for _ in range(position - 1):\n",
    "            if current is None:\n",
    "                raise IndexError(\"Position out of bounds\")\n",
    "            current = current.next\n",
    "        new_node.next = current.next\n",
    "        current.next = new_node\n",
    "\n",
    "    def delete(self, value):\n",
    "        current = self.head\n",
    "        if current and current.value == value:\n",
    "            self.head = current.next\n",
    "            current = None\n",
    "            return\n",
    "        prev = None\n",
    "        while current and current.value != value:\n",
    "            prev = current\n",
    "            current = current.next\n",
    "        if current is None:\n",
    "            return\n",
    "        prev.next = current.next\n",
    "        current = None\n",
    "\n",
    "# Example usage:\n",
    "ll = LinkedList()\n",
    "ll.append(1)\n",
    "ll.append(2)\n",
    "ll.append(3)\n",
    "ll.display()  # Output: 1 -> 2 -> 3 -> None\n",
    "ll.insert(4, 2)\n",
    "ll.display()  # Output: 1 -> 2 -> 4 -> 3 -> None\n",
    "ll.delete(2)\n",
    "ll.display()  # Output: 1 -> 4 -> 3 -> None"
   ]
  },
  {
   "cell_type": "code",
   "execution_count": 48,
   "id": "ebe0e6d4",
   "metadata": {},
   "outputs": [
    {
     "data": {
      "text/plain": [
       "[1, 2, 3, 4, 7, 9]"
      ]
     },
     "execution_count": 48,
     "metadata": {},
     "output_type": "execute_result"
    }
   ],
   "source": [
    "class Solution:\n",
    "    def mergeTwoLists(self, list1, list2) -> ListNode:\n",
    "        cur = dummy = ListNode()\n",
    "        while list1 and list2:               \n",
    "            if list1.val < list2.val:\n",
    "                cur.next = list1\n",
    "                list1, cur = list1.next, list1\n",
    "            else:\n",
    "                cur.next = list2\n",
    "                list2, cur = list2.next, list2\n",
    "                \n",
    "        if list1 or list2:\n",
    "            cur.next = list1 if list1 else list2\n",
    "            \n",
    "        return dummy.next\n",
    "mergeTwoLists([9,7,7,1],[2,3,2,4])"
   ]
  },
  {
   "cell_type": "code",
   "execution_count": 121,
   "id": "1ee6ed9c",
   "metadata": {},
   "outputs": [
    {
     "name": "stdout",
     "output_type": "stream",
     "text": [
      "[0, 1, 3, 0, 4, 0, 4, 2]\n",
      "5\n"
     ]
    }
   ],
   "source": [
    "# Given an integer array nums and an integer val, remove all occurrences of val in nums in-place. The order of the elements may be changed. Then return the number of elements in nums which are not equal to val.\n",
    "\n",
    "# Consider the number of elements in nums which are not equal to val be k, to get accepted, you need to do the following things:\n",
    "\n",
    "#     Change the array nums such that the first k elements of nums contain the elements which are not equal to val. The remaining elements of nums are not important as well as the size of nums.\n",
    "#     Return k.\n",
    "\n",
    "# Custom Judge:\n",
    "\n",
    "# The judge will test your solution with the following code:\n",
    "\n",
    "# int[] nums = [...]; // Input array\n",
    "# int val = ...; // Value to remove\n",
    "# int[] expectedNums = [...]; // The expected answer with correct length.\n",
    "#                             // It is sorted with no values equaling val.\n",
    "\n",
    "# int k = removeElement(nums, val); // Calls your implementation\n",
    "\n",
    "# assert k == expectedNums.length;\n",
    "# sort(nums, 0, k); // Sort the first k elements of nums\n",
    "# for (int i = 0; i < actualLength; i++) {\n",
    "#     assert nums[i] == expectedNums[i];\n",
    "# }\n",
    "\n",
    "# If all assertions pass, then your solution will be accepted.\n",
    "\n",
    " \n",
    "\n",
    "# Example 1:\n",
    "\n",
    "# Input: nums = [3,2,2,3], val = 3\n",
    "# Output: 2, nums = [2,2,_,_]\n",
    "# Explanation: Your function should return k = 2, with the first two elements of nums being 2.\n",
    "# It does not matter what you leave beyond the returned k (hence they are underscores).\n",
    "\n",
    "# Example 2:\n",
    "\n",
    "# Input: nums = [0,1,2,2,3,0,4,2], val = 2\n",
    "# Output: 5, nums = [0,1,4,0,3,_,_,_]\n",
    "# Explanation: Your function should return k = 5, with the first five elements of nums containing 0, 0, 1, 3, and 4.\n",
    "# Note that the five elements can be returned in any order.\n",
    "# It does not matter what you leave beyond the returned k (hence they are underscores).\n",
    "\n",
    "# def removeElement(self, nums: List[int], val: int) -> int:\n",
    "#     nums.sort()\n",
    "#     for x in nums:\n",
    "#         if x == val:\n",
    "\n",
    "nums = [0,1,2,2,3,0,4,2]\n",
    "val = 2\n",
    "index = 0\n",
    "\n",
    "for i in range(len(nums)):\n",
    "\n",
    "    if nums[i] != val:\n",
    "\n",
    "        nums[index] = nums[i]\n",
    "\n",
    "        index += 1\n",
    "print(nums)\n",
    "print(index)\n",
    "\n",
    "\n",
    "# for x in range(lengthNums):\n",
    "#     if nums[x] == val:\n",
    "#         print(f\"nums is: {nums[x]}\")\n",
    "#         print(f\"x is: {x}\")\n",
    "#         del nums[x]\n",
    "#         count-=1\n",
    "#         x-=1\n",
    "#     if count ==0:\n",
    "#         break\n",
    "\n",
    "# if nums[x] == val:\n",
    "#     nums.append(nums[x])\n",
    "#     del nums[x]\n",
    "#     count+=1\n",
    "\n",
    "# if nums[x] == val:\n",
    "#     nums.append(nums.pop(x))\n",
    "#     count+=1"
   ]
  },
  {
   "cell_type": "code",
   "execution_count": null,
   "id": "40dab81f",
   "metadata": {},
   "outputs": [],
   "source": []
  },
  {
   "cell_type": "code",
   "execution_count": 123,
   "id": "4634e977",
   "metadata": {},
   "outputs": [
    {
     "name": "stdout",
     "output_type": "stream",
     "text": [
      "True\n",
      "True\n"
     ]
    }
   ],
   "source": [
    "nums=[1, 2, 3, 3]\n",
    "for x in range(len(nums)):\n",
    "    for y in range(len(nums)):\n",
    "        if nums[x]==nums[y] and x!=y:\n",
    "            print(\"True\")\n",
    "            break"
   ]
  },
  {
   "cell_type": "code",
   "execution_count": 128,
   "id": "1cee5e67",
   "metadata": {},
   "outputs": [
    {
     "name": "stdout",
     "output_type": "stream",
     "text": [
      "True\n"
     ]
    }
   ],
   "source": [
    "nums=[1, 2, 3, 3]\n",
    "set1 = set(nums)\n",
    "if len(set1)!=len(nums):\n",
    "    print(\"True\")\n",
    "else:\n",
    "    print(\"False\")"
   ]
  },
  {
   "cell_type": "code",
   "execution_count": 132,
   "id": "b8a4db22",
   "metadata": {},
   "outputs": [
    {
     "data": {
      "text/plain": [
       "'hhhh'"
      ]
     },
     "execution_count": 132,
     "metadata": {},
     "output_type": "execute_result"
    }
   ],
   "source": [
    "a = \"hahahaha\"\n",
    "a[0:7:2]"
   ]
  },
  {
   "cell_type": "code",
   "execution_count": null,
   "id": "43eb4731",
   "metadata": {},
   "outputs": [],
   "source": [
    "haystack = \"sadbutsad\"\n",
    "needle = \"sad\"\n",
    "# maybe use enumerate\n",
    "\n",
    "\n",
    "\n",
    "\n",
    "\n",
    "\n",
    "\n",
    "\n",
    "\n",
    "# map1={}\n",
    "# for x in needle:\n",
    "#     if not map1:\n",
    "#         print(\"empty\")\n",
    "#         map1[f\"{x}\"]=None\n",
    "#         print(map1[x])\n",
    "#     elif x == map1[]\n",
    "        \n",
    "# map1"
   ]
  },
  {
   "cell_type": "code",
   "execution_count": null,
   "id": "fdd78170",
   "metadata": {},
   "outputs": [
    {
     "name": "stdout",
     "output_type": "stream",
     "text": [
      "anagram\n",
      "anagram\n",
      "anagram\n",
      "anagram\n"
     ]
    }
   ],
   "source": [
    "# solution 1\n",
    "# s = \"racecar\"\n",
    "# t = \"carrace\"\n",
    "# stack2 = list(t)\n",
    "# stack1 = list(s)\n",
    "# stack1.sort()\n",
    "# stack2.sort()\n",
    "# stack1 == stack2\n",
    "\n",
    "# solution 2\n",
    "# s = \"racecar\"\n",
    "# t = \"carrace\"\n",
    "# if len(s) != len(t):\n",
    "#     print(\"not anagram\")\n",
    "\n",
    "# countS,countT = {},{}\n",
    "# for x in range(len(s)):\n",
    "#     countS[s[x]] = 1 + countS.get(s[x],0)\n",
    "#     countT[t[x]] = 1 + countT.get(t[x],0)\n",
    "# for x in countS:\n",
    "#     if countS[x] != countT.get(x,0):\n",
    "#         print(\"not anagram\")\n",
    "#     else:\n",
    "#         print(\"anagram\")"
   ]
  },
  {
   "cell_type": "code",
   "execution_count": null,
   "id": "d9160138",
   "metadata": {},
   "outputs": [
    {
     "name": "stdout",
     "output_type": "stream",
     "text": [
      "True\n",
      "0 1\n",
      "True\n",
      "1 0\n"
     ]
    }
   ],
   "source": [
    "# Twosum\n",
    "nums, target = [3,4,5,6],7\n",
    "for x in nums:\n",
    "    for y in nums:\n",
    "        if x + y == 7:\n",
    "            print(\"True\")\n",
    "            print(f\"{nums.index(x)} {nums.index(y)}\")"
   ]
  },
  {
   "cell_type": "code",
   "execution_count": 204,
   "id": "5ef9292a",
   "metadata": {},
   "outputs": [
    {
     "name": "stdout",
     "output_type": "stream",
     "text": [
      "[0, 1]\n"
     ]
    }
   ],
   "source": [
    "seen = {}\n",
    "for i, v in enumerate(nums):\n",
    "    diff = target-v\n",
    "    if diff in seen:\n",
    "        print([seen[diff],i])\n",
    "    seen[v] = i"
   ]
  },
  {
   "cell_type": "code",
   "execution_count": 259,
   "id": "71a1e997",
   "metadata": {},
   "outputs": [
    {
     "name": "stdout",
     "output_type": "stream",
     "text": [
      "[['act', 'cat'], ['pots', 'tops', 'stop'], ['hat']]\n"
     ]
    }
   ],
   "source": [
    "# Group Anagram\n",
    "strs = [\"act\",\"pots\",\"tops\",\"cat\",\"stop\",\"hat\"]\n",
    "ditc1 = {}\n",
    "for s in strs:\n",
    "    count = [0] * 26\n",
    "    \n",
    "    for c in s:\n",
    "        count[ord(c)-ord(\"a\")] +=1\n",
    "    count_tuple = tuple(count)\n",
    "    if count_tuple not in ditc1:\n",
    "        ditc1[count_tuple] = []\n",
    "    ditc1[count_tuple].append(s)\n",
    "values = list(ditc1.values())\n",
    "print(values) \n",
    "\n",
    "\n",
    "# ditc1 = {}\n",
    "# strs = [\"act\",\"pots\",\"tops\",\"cat\",\"stop\",\"hat\"]\n",
    "# temp = []\n",
    "# for i,n in enumerate(strs):\n",
    "#     ditc1[n] = i\n",
    "# for x in range(len(strs)):\n",
    "#     strs[x]=sorted(strs[x])\n",
    "# strs.sort()\n",
    "# for x in range(len(strs)):\n",
    "#     strs[x] = ''.join(strs[x])\n",
    "# print(f\"strs is: {strs}\")\n",
    "# print(f\"dict1 is : {ditc1}\")"
   ]
  },
  {
   "cell_type": "code",
   "execution_count": 320,
   "id": "ec391b4d",
   "metadata": {},
   "outputs": [
    {
     "data": {
      "text/plain": [
       "[1, 2]"
      ]
     },
     "execution_count": 320,
     "metadata": {},
     "output_type": "execute_result"
    }
   ],
   "source": [
    "#****** Top K frequent elements ******\n",
    "nums = [1,1,1,1,3,3,2,2,2]\n",
    "k = 2\n",
    "count={}\n",
    "for x in nums:\n",
    "    if x not in count:\n",
    "        count[x] = 0\n",
    "    count[x] +=1\n",
    "count.keys()\n",
    "finalList=[]\n",
    "a = list(count.items())\n",
    "a.sort(reverse=True,key=lambda x: x[1])\n",
    "a\n",
    "for x in range(k):\n",
    "    finalList.append(a[x][0])\n",
    "finalList\n",
    "\n",
    "# //////*****Optimized*******/////////\n",
    "# count={}\n",
    "# for x in nums:\n",
    "#     if x not in count:\n",
    "#         count[x] = 0\n",
    "#     count[x] +=1\n",
    "# finalList=[]\n",
    "# nums = list(count.items())\n",
    "# nums.sort(reverse=True,key=lambda x: x[1])\n",
    "# for x in range(k):\n",
    "#     finalList.append(nums[x][0])\n",
    "# return finalList\n",
    "\n",
    "# ROUGH WORK\n",
    "# for x in range(0,k):\n",
    "#     finalList = a[x]\n",
    "# finalList\n",
    "# for x in range(k):\n",
    "#     finalList = [next(iter(count))]\n",
    "# finalList\n",
    "# for x in range(k):\n",
    "# finalList = list(count.values())"
   ]
  },
  {
   "cell_type": "code",
   "execution_count": 474,
   "id": "5577dec2",
   "metadata": {},
   "outputs": [
    {
     "data": {
      "text/plain": [
       "'offu dpef mpwf zpv'"
      ]
     },
     "execution_count": 474,
     "metadata": {},
     "output_type": "execute_result"
    }
   ],
   "source": [
    "# ENCODE AND DECODE\n",
    "\n",
    "a = [\"neet\",\"code\",\"love\",\"you\"]\n",
    "\n",
    "        # a[x] is neet, y is 0\n",
    "        # print(a[x])\n",
    "\n",
    "# Coding\n",
    "targetList = [[]]* len(a)\n",
    "for x in range(len(a)):\n",
    "    for y in range(len(a[x])):\n",
    "        if targetList[x] ==[]:\n",
    "            targetList[x] = list(chr(ord(a[x][y])+1))\n",
    "        else:\n",
    "            targetList[x].append(chr(ord(a[x][y])+1))\n",
    "    targetList[x] = ''.join(targetList[x])\n",
    "targetList = ' '.join(targetList)\n",
    "targetList\n",
    "\n"
   ]
  },
  {
   "cell_type": "code",
   "execution_count": 491,
   "id": "9c3f7393",
   "metadata": {},
   "outputs": [
    {
     "data": {
      "text/plain": [
       "['neet', 'code', 'love', 'you']"
      ]
     },
     "execution_count": 491,
     "metadata": {},
     "output_type": "execute_result"
    }
   ],
   "source": [
    "# Decoding\n",
    "# s is list after the split\n",
    "s = targetList\n",
    "s = s.split()\n",
    "finalList = [[]] * len(s)\n",
    "for x in range(len(s)):\n",
    "    for y in range(len(s[x])):\n",
    "        if finalList[x] ==[]:\n",
    "            finalList[x] = list(chr(ord(a[x][y])))\n",
    "        else:\n",
    "            finalList[x].append(chr(ord(a[x][y])))\n",
    "    finalList[x] = ''.join(finalList[x])\n",
    "finalList\n"
   ]
  },
  {
   "cell_type": "code",
   "execution_count": 517,
   "id": "e7247ef4",
   "metadata": {},
   "outputs": [
    {
     "data": {
      "text/plain": [
       "['aa', 'bb']"
      ]
     },
     "execution_count": 517,
     "metadata": {},
     "output_type": "execute_result"
    }
   ],
   "source": [
    "class Solution:\n",
    "\n",
    "    def encode(self, strs) -> str:\n",
    "        targetList = [[]]* len(strs)\n",
    "        for x in range(len(strs)):\n",
    "            for y in range(len(strs[x])):\n",
    "                if targetList[x] ==[]:\n",
    "                    targetList[x] = list(chr(ord(strs[x][y])+1))\n",
    "                else:\n",
    "                    targetList[x].append(chr(ord(strs[x][y])+1))\n",
    "            targetList[x] = ''.join(targetList[x])\n",
    "        targetList = ' '.join(targetList)\n",
    "        return targetList\n",
    "\n",
    "    def decode(self, s: str) -> list:\n",
    "        s = s.split()\n",
    "        finalList = [[]] * len(s)\n",
    "        for x in range(len(s)):\n",
    "            for y in range(len(s[x])):\n",
    "                if finalList[x] ==[]:\n",
    "                    finalList[x] = list(chr(ord(s[x][y])-1))\n",
    "                else:\n",
    "                    finalList[x].append(chr(ord(s[x][y])-1))\n",
    "            finalList[x] = ''.join(finalList[x])\n",
    "        finalList\n",
    "a = encode(['aa','bb'])\n",
    "decode(a)"
   ]
  },
  {
   "cell_type": "code",
   "execution_count": 1,
   "id": "42fe531a",
   "metadata": {},
   "outputs": [],
   "source": [
    "a = [\"neet\",\"code\",\"love\",\"you\"]\n",
    "def encode(strs:list)->str:\n",
    "    target = \"\"\n",
    "    for x in a:\n",
    "        target += str(len(x)) + \"#\" + x\n",
    "    return (target)\n",
    "\n",
    "def decode(s:str)-> list:\n",
    "    res = []\n",
    "    i=0\n",
    "    while i< len(s):\n",
    "        j = i\n",
    "        while s[j] != \"#\":\n",
    "            j+=1\n",
    "        length = int(s[i:j])\n",
    "        res.append(s[j+1:j+1+length])\n",
    "        i = j+1+length\n",
    "    return res\n",
    "        \n",
    "        "
   ]
  },
  {
   "cell_type": "code",
   "execution_count": 5,
   "id": "76abee4a",
   "metadata": {},
   "outputs": [
    {
     "data": {
      "text/plain": [
       "[6, 24, 48, 48]"
      ]
     },
     "execution_count": 5,
     "metadata": {},
     "output_type": "execute_result"
    }
   ],
   "source": [
    "# Products of Array Except Self\n",
    "\n",
    "# Given an integer array nums, return an array output where output[i] is the product of all the elements of nums except nums[i].\n",
    "\n",
    "# Each product is guaranteed to fit in a 32-bit integer.\n",
    "\n",
    "# Follow-up: Could you solve it in O(n)O(n) time without using the division operation?\n",
    "\n",
    "# Example 1:\n",
    "\n",
    "# Input: nums = [1,2,4,6]\n",
    "\n",
    "# Output: [48,24,12,8]\n",
    "\n",
    "nums = [1,2,4,6]\n",
    "res =[]\n",
    "# product = 1\n",
    "# for x in range(len(nums)):\n",
    "#     product *= nums[x]\n",
    "# for x in range(len(nums)):\n",
    "#     res.append(product//nums[x])\n",
    "# res\n",
    "\n",
    "\n",
    "# for x in range(len(nums)):\n",
    "#     product = 1\n",
    "#     for y in range(len(nums)):\n",
    "#         if x!=y:\n",
    "#             product *= nums[y]\n",
    "#     res.append(product)\n",
    "# res\n",
    "\n",
    "# fix the above code to get O(n) time complexity\n",
    "\n",
    "# Initialize the result array with 1s\n",
    "res = [1] * len(nums)\n",
    "prefix_array = []\n",
    "suffix_array = []\n",
    "# Calculate the prefix products\n",
    "prefix = 1\n",
    "for i in range(len(nums)):\n",
    "    res[i] = prefix\n",
    "    prefix *= nums[i]\n",
    "    prefix_array.append(prefix)\n",
    "    # print(f\"prefix {prefix}\")\n",
    "\n",
    "# Calculate the suffix products and multiply with the prefix products\n",
    "suffix = 1\n",
    "for i in range(len(nums) - 1, -1, -1):\n",
    "    res[i] *= suffix\n",
    "    suffix *= nums[i]\n",
    "    suffix_array.append(suffix)\n",
    "    # print(f\"suffix {suffix}\")\n",
    "    \n",
    "prefix_array\n",
    "suffix_array\n"
   ]
  },
  {
   "cell_type": "code",
   "execution_count": null,
   "id": "05e07984",
   "metadata": {},
   "outputs": [
    {
     "name": "stdout",
     "output_type": "stream",
     "text": [
      "0 1\n"
     ]
    }
   ],
   "source": [
    "# TWO SUM\n",
    "nums = [2,7,11,15]\n",
    "target = 9\n",
    "temp = 0\n",
    "for x in range(len(nums)):\n",
    "    temp = target - nums[x]\n",
    "    if temp in nums:\n",
    "        print(f\"{x} {nums.index(temp)}\")\n",
    "        break"
   ]
  },
  {
   "cell_type": "code",
   "execution_count": 61,
   "id": "7a9d0831",
   "metadata": {},
   "outputs": [
    {
     "name": "stdout",
     "output_type": "stream",
     "text": [
      "-1\n",
      "-1\n",
      "2\n"
     ]
    }
   ],
   "source": [
    "# 28. Find the Index of the First Occurrence in a String\n",
    "# Easy\n",
    "# Topics\n",
    "# Companies\n",
    "\n",
    "# Given two strings needle and haystack, return the index of the first occurrence of needle in haystack, or -1 if needle is not part of haystack.\n",
    "\n",
    " \n",
    "\n",
    "# Example 1:\n",
    "\n",
    "# Input: haystack = \"sadbutsad\", needle = \"sad\"\n",
    "# Output: 0\n",
    "# Explanation: \"sad\" occurs at index 0 and 6.\n",
    "# The first occurrence is at index 0, so we return 0.\n",
    "\n",
    "# Example 2:\n",
    "\n",
    "# Input: haystack = \"leetcode\", needle = \"leeto\"\n",
    "# Output: -1\n",
    "# Explanation: \"leeto\" did not occur in \"leetcode\", so we return -1.\n",
    "\n",
    " \n",
    "\n",
    "# Constraints:\n",
    "\n",
    "#     1 <= haystack.length, needle.length <= 104\n",
    "#     haystack and needle consist of only lowercase English characters.\n",
    "\n",
    "haystack = \"hello\"\n",
    "needle = \"ll\"\n",
    "for x in range(len(haystack)):\n",
    "    if haystack[x:x+len(needle)] == needle:\n",
    "        print(x)\n",
    "        break\n",
    "    else:\n",
    "        print(-1)   "
   ]
  },
  {
   "cell_type": "code",
   "execution_count": 84,
   "id": "2981d592",
   "metadata": {},
   "outputs": [],
   "source": [
    "# Reverse Linked List\n",
    "\n",
    "# Given the beginning of a singly linked list head, reverse the list, and return the new beginning of the list.\n",
    "\n",
    "# Example 1:\n",
    "\n",
    "# Input: head = [0,1,2,3]\n",
    "\n",
    "# Output: [3,2,1,0]\n",
    "\n",
    "# Example 2:\n",
    "\n",
    "# Input: head = []\n",
    "\n",
    "# Output: []\n",
    "\n",
    "# Constraints:\n",
    "\n",
    "#     0 <= The length of the list <= 1000.\n",
    "#     -1000 <= Node.val <= 1000\n",
    "\n",
    "# class ListNode:\n",
    "#     def __init__(self, value=0, next=None):\n",
    "#         self.value = value\n",
    "#         self.next = next\n",
    "        \n",
    "# class LinkedList:\n",
    "#     def __init__(self):\n",
    "#         self.head = None\n",
    "\n",
    "#     def append(self, value):\n",
    "#         new_node = ListNode(value)\n",
    "#         if not self.head:\n",
    "#             self.head = new_node\n",
    "#             return\n",
    "#         current = self.head\n",
    "#         while current.next:\n",
    "#             current = current.next\n",
    "#         current.next = new_node\n",
    "\n",
    "#     def display(self):\n",
    "#         current = self.head\n",
    "#         while current:\n",
    "#             print(current.value, end=\" -> \")\n",
    "#             current = current.next\n",
    "#         print(\"None\")\n",
    "\n",
    "#     def reverse(self):\n",
    "#         curr, prev = self.head, None\n",
    "#         while curr:\n",
    "#             temp = curr.next\n",
    "#             curr.next, prev, curr = prev, curr, temp\n",
    "#         self.head = prev\n",
    "\n"
   ]
  },
  {
   "cell_type": "code",
   "execution_count": null,
   "id": "a7fb607d",
   "metadata": {},
   "outputs": [
    {
     "ename": "AttributeError",
     "evalue": "'LinkedList' object has no attribute 'next'",
     "output_type": "error",
     "traceback": [
      "\u001b[0;31m---------------------------------------------------------------------------\u001b[0m",
      "\u001b[0;31mAttributeError\u001b[0m                            Traceback (most recent call last)",
      "Cell \u001b[0;32mIn[87], line 11\u001b[0m\n\u001b[1;32m      9\u001b[0m \u001b[38;5;28mtype\u001b[39m(curr)\n\u001b[1;32m     10\u001b[0m \u001b[38;5;28;01mwhile\u001b[39;00m curr:\n\u001b[0;32m---> 11\u001b[0m     temp \u001b[38;5;241m=\u001b[39m \u001b[43mcurr\u001b[49m\u001b[38;5;241;43m.\u001b[39;49m\u001b[43mnext\u001b[49m\n\u001b[1;32m     12\u001b[0m     curr\u001b[38;5;241m.\u001b[39mnext, prev, curr \u001b[38;5;241m=\u001b[39m prev, curr, temp\n\u001b[1;32m     13\u001b[0m \u001b[38;5;28mprint\u001b[39m(prev)\n",
      "\u001b[0;31mAttributeError\u001b[0m: 'LinkedList' object has no attribute 'next'"
     ]
    }
   ],
   "source": [
    "# ll1 = LinkedList()\n",
    "# listA = [0,1,2,3]\n",
    "# for x in range(len(listA)):\n",
    "#     ll1.append(listA[x])\n",
    "# # ll1.reverse()\n",
    "# # ll1.display()\n",
    "# curr, prev = ll1, None\n",
    "# type(curr)\n",
    "# while curr:\n",
    "#     temp = curr.next\n",
    "#     curr.next, prev, curr = prev, curr, temp\n",
    "# print(prev)"
   ]
  },
  {
   "cell_type": "markdown",
   "id": "5db2b52a",
   "metadata": {},
   "source": [
    "## TREES LEETCODE ##"
   ]
  },
  {
   "cell_type": "code",
   "execution_count": 40,
   "id": "6e31c758",
   "metadata": {},
   "outputs": [],
   "source": [
    "\n",
    "class Node:\n",
    "    def __init__(self, data):\n",
    "        self.data = data\n",
    "        self.left = None\n",
    "        self.right = None\n",
    "\n",
    "# In-order DFS: Left, Root, Right\n",
    "def in_order_dfs(node):\n",
    "    if node is None:\n",
    "        return\n",
    "    in_order_dfs(node.left)\n",
    "    print(node.data, end=' ')\n",
    "    in_order_dfs(node.right)\n",
    "\n",
    "# Pre-order DFS: Root, Left, Right\n",
    "def pre_order_dfs(node):\n",
    "    if node is None:\n",
    "        return\n",
    "    print(node.data, end=' ')\n",
    "    pre_order_dfs(node.left)\n",
    "    pre_order_dfs(node.right)\n",
    "\n",
    "# Post-order DFS: Left, Right, Root\n",
    "def post_order_dfs(node):\n",
    "    if node is None:\n",
    "        return\n",
    "    post_order_dfs(node.left)\n",
    "    post_order_dfs(node.right)\n",
    "    print(node.data, end=' ')\n",
    "\n",
    "# BFS: Level order traversal\n",
    "def bfs(root):\n",
    "    if root is None:\n",
    "        return\n",
    "    queue = [root]\n",
    "    while queue:\n",
    "        node = queue.pop(0)\n",
    "        print(node.data, end=' ')\n",
    "        if node.left:\n",
    "            queue.append(node.left)\n",
    "        if node.right:\n",
    "            queue.append(node.right)\n",
    "\n",
    "\n",
    "# export PATH=\"$PATH:/usr/local/bin\"\n",
    "# https://flexiple.com/python/pip-command-not-found\n",
    "# Python is installed as\n",
    "#   /opt/homebrew/bin/python3\n",
    "\n",
    "# Unversioned symlinks `python`, `python-config`, `pip` etc. pointing to\n",
    "# `python3`, `python3-config`, `pip3` etc., respectively, are installed into\n",
    "#   /opt/homebrew/opt/python@3.13/libexec/bin\n",
    "\n",
    "# See: https://docs.brew.sh/\n",
    "# Already downloaded: /Users/eezee_sekai/Library/Caches/Homebrew/downloads/7b63c3b34bee402290af49fac829a6682ab45ea5c9258b6fe03b590a03a4c4a9--mpdecimal-4.0.0-1.bottle_manifest.json\n",
    "\n",
    "# ==> Installing python@3.13\n",
    "# ==> Pouring python@3.13--3.13.2.arm64_sequoia.bottle.tar.gz\n",
    "# ==> /opt/homebrew/Cellar/python@3.13/3.13.2/bin/python3.13 -Im ensurepip\n",
    "# ==> /opt/homebrew/Cellar/python@3.13/3.13.2/bin/python3.13 -Im pip install -v --\n",
    "# ==> Caveats"
   ]
  },
  {
   "cell_type": "code",
   "execution_count": 42,
   "id": "38a5a23d",
   "metadata": {},
   "outputs": [
    {
     "data": {
      "text/plain": [
       "<__main__.Node at 0x106ffdbb0>"
      ]
     },
     "execution_count": 42,
     "metadata": {},
     "output_type": "execute_result"
    }
   ],
   "source": [
    "# t1 = TreeNode(1)\n",
    "# t2 = TreeNode(2)\n",
    "# t3 = TreeNode(3)\n",
    "# t4 = TreeNode(4)\n",
    "# t5 = TreeNode(5)\n",
    "# t6 = TreeNode(6)\n",
    "# t7 = TreeNode(7)\n",
    "t1 = Node(1)\n",
    "t2 = Node(2)\n",
    "t3 = Node(3)\n",
    "t4 = Node(4)\n",
    "t5 = Node(5)\n",
    "t6 = Node(6)\n",
    "t7 = Node(7)\n",
    "\n",
    "t1.left = t2\n",
    "t1.right = t3\n",
    "t2.left = t4\n",
    "t2.right = t5\n",
    "t3.left = t6\n",
    "t3.right = t7\n",
    "root = t1\n",
    "root\n"
   ]
  },
  {
   "cell_type": "code",
   "execution_count": null,
   "id": "84f1c9de",
   "metadata": {},
   "outputs": [
    {
     "data": {
      "text/plain": [
       "1"
      ]
     },
     "execution_count": 10,
     "metadata": {},
     "output_type": "execute_result"
    }
   ],
   "source": [
    "# from bigtree import Node\n",
    "# t1 = Node(1)\n",
    "# t2 = Node(2)\n",
    "# t3 = Node(3)\n",
    "# t4 = Node(4)\n",
    "# t5 = Node(5)\n",
    "# t6 = Node(6)\n",
    "# t7 = Node(7)\n",
    "# Node"
   ]
  },
  {
   "cell_type": "code",
   "execution_count": 39,
   "id": "c2de0df3",
   "metadata": {},
   "outputs": [
    {
     "data": {
      "text/plain": [
       "<__main__.TreeNode at 0x106b84f40>"
      ]
     },
     "execution_count": 39,
     "metadata": {},
     "output_type": "execute_result"
    }
   ],
   "source": [
    "# Tree reversal\n",
    "# Input: root = [4,2,7,1,3,6,9]\n",
    "# Output: [4,7,2,9,6,3,1]\n",
    "class TreeNode:\n",
    "    def __init__(self, val=0, left=None, right=None):\n",
    "        self.val = val\n",
    "        self.left = left\n",
    "        self.right = right\n",
    "t1 = TreeNode(4)\n",
    "root = t1\n",
    "t2 = TreeNode(2)\n",
    "t3 = TreeNode(7)\n",
    "t4 = TreeNode(1)\n",
    "t5 = TreeNode(3)\n",
    "t6 = TreeNode(6)\n",
    "t7 = TreeNode(9)\n",
    "\n",
    "t1.left = t2\n",
    "t1.right = t3\n",
    "t2.left = t4\n",
    "t2.right = t5\n",
    "t3.left = t6\n",
    "t3.right = t7\n",
    "\n",
    "def invertTree(root: TreeNode)-> TreeNode:\n",
    "    if not root:\n",
    "        print(\"empty\")\n",
    "    temp = root.left\n",
    "    root.left = root.right\n",
    "    root.right = temp\n",
    "    return root\n",
    "    \n",
    "invertTree(root)\n",
    "invertTree(root.left)\n",
    "invertTree(root.right)\n",
    "root"
   ]
  },
  {
   "cell_type": "code",
   "execution_count": null,
   "id": "666a7e7c",
   "metadata": {},
   "outputs": [
    {
     "data": {
      "text/plain": [
       "[[4, 2, 7, 1, 3, 6, 9]]"
      ]
     },
     "execution_count": 34,
     "metadata": {},
     "output_type": "execute_result"
    }
   ],
   "source": []
  },
  {
   "cell_type": "code",
   "execution_count": null,
   "id": "08963a73",
   "metadata": {},
   "outputs": [
    {
     "data": {
      "text/plain": [
       "3"
      ]
     },
     "execution_count": 93,
     "metadata": {},
     "output_type": "execute_result"
    }
   ],
   "source": [
    "# Maximum Depth of Binary Tree\n",
    "\n",
    "# Given the root of a binary tree, return its depth.\n",
    "\n",
    "# The depth of a binary tree is defined as the number of nodes along the longest path from the root node down to the farthest leaf node.\n",
    "root = [1, 2, 3, None, None, 4]\n",
    "\n",
    "def MakeTree(node_list, index=0):\n",
    "    if index >= len(node_list) or node_list[index] is None:\n",
    "        return None\n",
    "    \n",
    "    node = TreeNode(node_list[index])\n",
    "    node.left = MakeTree(node_list, 2 * index + 1)\n",
    "    node.right = MakeTree(node_list, 2 * index + 2)\n",
    "    \n",
    "    return node\n",
    "tree = MakeTree(root)\n",
    "\n",
    "\n",
    "\n",
    "\n",
    "def maxDepth(root:TreeNode)-> int:\n",
    "    if not root:\n",
    "        return 0\n",
    "    return 1 + max(maxDepth(root.left), maxDepth(root.right))\n",
    "maxDepth(tree)"
   ]
  },
  {
   "cell_type": "code",
   "execution_count": 69,
   "id": "f2931fa4",
   "metadata": {},
   "outputs": [
    {
     "data": {
      "text/plain": [
       "[0, 1, 1, 2, 3, 5, 8, 13, 21, 34]"
      ]
     },
     "execution_count": 69,
     "metadata": {},
     "output_type": "execute_result"
    }
   ],
   "source": [
    "def fibonachi(num)->list:\n",
    "    res = [0,1]\n",
    "    for x in range(2,num):\n",
    "        res.append(res[x-1] + res[x-2])\n",
    "    return res\n",
    "\n",
    "fibonachi(10)\n",
    "  \n",
    "        \n",
    "    "
   ]
  },
  {
   "cell_type": "code",
   "execution_count": null,
   "id": "c452e214",
   "metadata": {},
   "outputs": [
    {
     "data": {
      "text/plain": [
       "55"
      ]
     },
     "execution_count": 52,
     "metadata": {},
     "output_type": "execute_result"
    }
   ],
   "source": [
    "# def fibonachi(num):\n",
    "#     if num <=1:\n",
    "#         return num\n",
    "#     else:\n",
    "#         return fibonachi(num-1)+fibonachi(num-2)\n",
    "def fibonachi(num):\n",
    "    if num <=1:\n",
    "        return num\n",
    "    else:\n",
    "        return fibonachi(num-1)+fibonachi(num-2)\n",
    "fibonachi(10)"
   ]
  },
  {
   "cell_type": "code",
   "execution_count": 176,
   "id": "5b6c2b33",
   "metadata": {},
   "outputs": [
    {
     "data": {
      "text/plain": [
       "3"
      ]
     },
     "execution_count": 176,
     "metadata": {},
     "output_type": "execute_result"
    }
   ],
   "source": [
    "# Tree max depth using BFS\n",
    "from collections import deque\n",
    "def MaxDepthBFS(root:TreeNode):\n",
    "    if not root:\n",
    "        return 0\n",
    "    count = 0\n",
    "    q = deque([root])\n",
    "    while(q):\n",
    "        for x in range(len(q)):\n",
    "            node = q.popleft()\n",
    "            if node.left:\n",
    "                q.append(node.left)\n",
    "            if node.right:\n",
    "                q.append(node.right)\n",
    "        count+=1\n",
    "    return count\n",
    "\n",
    "    # while(True):\n",
    "    #     if root.left != None or root.right != None:\n",
    "    #         count+=1\n",
    "    #     if root.left != None:\n",
    "    #         root = root.left\n",
    "    #     else:\n",
    "    #         root = root.right\n",
    "    #     if root.left == None and root.right == None:\n",
    "    #         break\n",
    "    # return count\n",
    "MaxDepthBFS(tree)"
   ]
  },
  {
   "cell_type": "code",
   "execution_count": 95,
   "id": "38bb682a",
   "metadata": {},
   "outputs": [
    {
     "data": {
      "text/plain": [
       "3"
      ]
     },
     "execution_count": 95,
     "metadata": {},
     "output_type": "execute_result"
    }
   ],
   "source": [
    "def maxDepthitrDFS(root:TreeNode)->int:\n",
    "    if not root:\n",
    "        return 0\n",
    "    stack = [[root,1]]\n",
    "    res = 0\n",
    "    while stack:\n",
    "        node, depth = stack.pop()\n",
    "        if node:\n",
    "            res = max(res,depth)\n",
    "            stack.append([node.left,depth+1])\n",
    "            stack.append([node.right,depth+1])\n",
    "    return res\n",
    "maxDepthitrDFS(tree)\n"
   ]
  },
  {
   "cell_type": "code",
   "execution_count": 142,
   "id": "fb436bce",
   "metadata": {},
   "outputs": [
    {
     "data": {
      "text/plain": [
       "True"
      ]
     },
     "execution_count": 142,
     "metadata": {},
     "output_type": "execute_result"
    }
   ],
   "source": [
    "# Same Binary Tree\n",
    "\n",
    "# Given the roots of two binary trees p and q, return true if the trees are equivalent, otherwise return false.\n",
    "\n",
    "# Two binary trees are considered equivalent if they share the exact same structure and the nodes have the same values.\n",
    "\n",
    "# Definition for a binary tree node.\n",
    "# class TreeNode:\n",
    "#     def __init__(self, val=0, left=None, right=None):\n",
    "#         self.val = val\n",
    "#         self.left = left\n",
    "#         self.right = right\n",
    "\n",
    "def isSubtree(root: TreeNode, subRoot: TreeNode) -> bool:\n",
    "    if not root and not subRoot:\n",
    "        return True\n",
    "    if not root and subRoot:\n",
    "        return False\n",
    "    if not subRoot:\n",
    "        return True\n",
    "    if sameTree(root,subRoot):\n",
    "        return True\n",
    "    return (isSubtree(root.left,subRoot) or isSubtree(root.right, subRoot))\n",
    "\n",
    "    \n",
    "def sameTree(p:TreeNode,q:TreeNode)->bool:\n",
    "    if not p and not q:\n",
    "        return True\n",
    "    if not p or not q:\n",
    "        return False\n",
    "    if p.val != q.val:\n",
    "        return False\n",
    "    return sameTree(p.left,q.left) and sameTree(p.right,q.right)\n",
    "    \n",
    "    \n",
    "isSubtree(tree,tree.right)\n"
   ]
  },
  {
   "cell_type": "code",
   "execution_count": 157,
   "id": "9c8ef700",
   "metadata": {},
   "outputs": [],
   "source": [
    "# Lowest Common Ancestor in Binary Search Tree\n",
    "\n",
    "# Given a binary search tree (BST) where all node values are unique, and two nodes from the tree p and q, return the lowest common ancestor (LCA) of the two nodes.\n",
    "\n",
    "# The lowest common ancestor between two nodes p and q is the lowest node in a tree T such that both p and q as descendants. The ancestor is allowed to be a descendant of itself.\n",
    "\n",
    "# Input: root = [5,3,8,1,4,7,9,null,2], p = 3, q = 8\n",
    "\n",
    "root = [5,3,8,1,4,7,9,None,2]\n",
    "bstree = MakeTree(root)\n",
    "def lowestCommonAncestor(self, root: TreeNode, p: TreeNode, q: TreeNode) -> TreeNode:\n",
    "        cur = root\n",
    "        while cur:\n",
    "            if p.val<cur.val and q.val<cur.val:\n",
    "                cur = cur.left\n",
    "            elif p.val>cur.val and q.val>cur.val:\n",
    "                cur = cur.right\n",
    "            else:\n",
    "                return cur\n",
    "        return cur\n",
    "        \n",
    "    "
   ]
  },
  {
   "cell_type": "code",
   "execution_count": 183,
   "id": "e87196d2",
   "metadata": {},
   "outputs": [
    {
     "data": {
      "text/plain": [
       "[[1], [2, 3], [4, 5, 6, 7]]"
      ]
     },
     "execution_count": 183,
     "metadata": {},
     "output_type": "execute_result"
    }
   ],
   "source": [
    "# Binary Tree Level Order Traversal\n",
    "\n",
    "# Given a binary tree root, return the level order traversal of it as a nested list, where each sublist contains the values of nodes at a particular level in the tree, from left to right.\n",
    "\n",
    "root = [1,2,3,4,5,6,7]\n",
    "IOtree = MakeTree(root)\n",
    "def levelOrder(root:TreeNode) ->list[list[int]]:\n",
    "    if not root:\n",
    "        return None\n",
    "    res = []\n",
    "    q = deque([root])\n",
    "    while q:\n",
    "        level = []\n",
    "        for _ in range(len(q)):\n",
    "            temp = q.popleft()\n",
    "            level.append(temp.val)\n",
    "            if temp.left:\n",
    "                q.append(temp.left)\n",
    "            if temp.right:\n",
    "                q.append(temp.right)\n",
    "        res.append(level)\n",
    "    return res\n",
    "levelOrder(IOtree)\n",
    "\n",
    "\n",
    "\n",
    "\n",
    "\n",
    "\n",
    "\n",
    "\n",
    "\n",
    "\n",
    "    # res = [[root.val]]\n",
    "    # def helper(root):\n",
    "    #     if not root:\n",
    "    #         return None\n",
    "    #     return root.left.val,root.right.val\n",
    "    # res.append([helper(root.left),helper(root.right)])"
   ]
  },
  {
   "cell_type": "code",
   "execution_count": 187,
   "id": "7e133243",
   "metadata": {},
   "outputs": [
    {
     "data": {
      "text/plain": [
       "True"
      ]
     },
     "execution_count": 187,
     "metadata": {},
     "output_type": "execute_result"
    }
   ],
   "source": [
    "# Valid Binary Search Tree\n",
    "\n",
    "# Given the root of a binary tree, return true if it is a valid binary search tree, otherwise return false.\n",
    "\n",
    "# A valid binary search tree satisfies the following constraints:\n",
    "\n",
    "#     The left subtree of every node contains only nodes with keys less than the node's key.\n",
    "#     The right subtree of every node contains only nodes with keys greater than the node's key.\n",
    "#     Both the left and right subtrees are also binary search trees.\n",
    "\n",
    "root = [5,3,7,None,None,6,9]\n",
    "bstree = MakeTree(root)\n",
    "def isValidBST(root:TreeNode) -> bool:\n",
    "    def helper(node,lower=float('-inf'),upper=float('inf')):\n",
    "        if not node:\n",
    "            return True\n",
    "        val = node.val\n",
    "        if val<=lower or val>=upper:\n",
    "            return False\n",
    "        if not helper(node.right,val,upper):\n",
    "            return False\n",
    "        if not helper(node.left,lower,val):\n",
    "            return False\n",
    "        return True\n",
    "    return helper(root)\n",
    "isValidBST(bstree)\n"
   ]
  },
  {
   "cell_type": "code",
   "execution_count": null,
   "id": "a1241380",
   "metadata": {},
   "outputs": [],
   "source": []
  }
 ],
 "metadata": {
  "kernelspec": {
   "display_name": "Python 3",
   "language": "python",
   "name": "python3"
  },
  "language_info": {
   "codemirror_mode": {
    "name": "ipython",
    "version": 3
   },
   "file_extension": ".py",
   "mimetype": "text/x-python",
   "name": "python",
   "nbconvert_exporter": "python",
   "pygments_lexer": "ipython3",
   "version": "3.9.6"
  }
 },
 "nbformat": 4,
 "nbformat_minor": 5
}
